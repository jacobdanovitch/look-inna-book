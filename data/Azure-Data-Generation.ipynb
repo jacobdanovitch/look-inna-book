{
 "cells": [
  {
   "cell_type": "code",
   "execution_count": 8,
   "metadata": {},
   "outputs": [],
   "source": [
    "import io\n",
    "import csv\n",
    "\n",
    "import psycopg2\n",
    "from getpass import getpass\n",
    "\n",
    "from sqlalchemy import create_engine, text\n",
    "from tqdm.auto import tqdm\n",
    "\n",
    "import pandas as pd\n",
    "import numpy as np"
   ]
  },
  {
   "cell_type": "code",
   "execution_count": 194,
   "metadata": {},
   "outputs": [
    {
     "name": "stdout",
     "output_type": "stream",
     "text": [
      "User: jacobgdt\n",
      "Password: ········\n"
     ]
    }
   ],
   "source": [
    "db_params = dict(user=f\"{input('User: ')}@look-inna-book-postgres-hasura-pg-server\",\n",
    "                 password=getpass('Password: '),\n",
    "                 host=\"look-inna-book-postgres-hasura-pg-server.postgres.database.azure.com\",\n",
    "                 port=\"5432\",\n",
    "                 database=\"look-inna-book\"\n",
    "                )"
   ]
  },
  {
   "cell_type": "code",
   "execution_count": 195,
   "metadata": {},
   "outputs": [
    {
     "data": {
      "text/plain": [
       "['final.\"Book\"',\n",
       " 'PaymentInfo',\n",
       " 'ShippingAddress',\n",
       " 'Order',\n",
       " 'Store',\n",
       " 'authorbook',\n",
       " 'purchaseditem',\n",
       " 'paymentmethod',\n",
       " 'author',\n",
       " 'book',\n",
       " 'shipment',\n",
       " 'cardholder',\n",
       " 'residentialaddress',\n",
       " 'customer',\n",
       " 'household',\n",
       " 'phonenumber',\n",
       " 'purchase',\n",
       " 'Book',\n",
       " 'Offer',\n",
       " 'publisher']"
      ]
     },
     "execution_count": 195,
     "metadata": {},
     "output_type": "execute_result"
    }
   ],
   "source": [
    "conn_str = 'postgresql://{user}:{password}@{host}:{port}/{database}'\n",
    "engine = create_engine(conn_str.format(**db_params))\n",
    "\n",
    "engine.table_names()"
   ]
  },
  {
   "cell_type": "markdown",
   "metadata": {},
   "source": [
    "## Data Generation Status\n",
    "\n",
    "Currently automating creation of:\n",
    "\n",
    "* ✅ author\n",
    "* ✅ book\n",
    "* ✅ cardholder \n",
    "* ✅ customer \n",
    "* ✅ household \n",
    "* ✅ paymentmethod \n",
    "* ❌ phonenumber\n",
    "* ❌ publisher\n",
    "* ✅ purchase \n",
    "* ✅ purchaseditem \n",
    "* ❌ residentialaddress\n",
    "* ❌ shipment\n",
    "* ✅ writtenby \n"
   ]
  },
  {
   "cell_type": "markdown",
   "metadata": {},
   "source": [
    "## Create Schema"
   ]
  },
  {
   "cell_type": "code",
   "execution_count": 11,
   "metadata": {},
   "outputs": [
    {
     "data": {
      "text/plain": [
       "<sqlalchemy.engine.result.ResultProxy at 0x11ce88050>"
      ]
     },
     "execution_count": 11,
     "metadata": {},
     "output_type": "execute_result"
    }
   ],
   "source": [
    "# This doesn't work for whatever reason.\n",
    "# Can just run in pgAdmin or Hasura.\n",
    "\n",
    "with open('../SQL/DDL.sql') as f:\n",
    "    schema = f.read()\n",
    "    \n",
    "engine.execute(text(schema))"
   ]
  },
  {
   "cell_type": "markdown",
   "metadata": {},
   "source": [
    "## Inserting Book Data"
   ]
  },
  {
   "cell_type": "code",
   "execution_count": 12,
   "metadata": {},
   "outputs": [
    {
     "data": {
      "text/html": [
       "<div>\n",
       "<style scoped>\n",
       "    .dataframe tbody tr th:only-of-type {\n",
       "        vertical-align: middle;\n",
       "    }\n",
       "\n",
       "    .dataframe tbody tr th {\n",
       "        vertical-align: top;\n",
       "    }\n",
       "\n",
       "    .dataframe thead th {\n",
       "        text-align: right;\n",
       "    }\n",
       "</style>\n",
       "<table border=\"1\" class=\"dataframe\">\n",
       "  <thead>\n",
       "    <tr style=\"text-align: right;\">\n",
       "      <th></th>\n",
       "      <th>asin</th>\n",
       "      <th>coverURL</th>\n",
       "      <th>title</th>\n",
       "      <th>author</th>\n",
       "      <th>category</th>\n",
       "      <th>publisherID</th>\n",
       "      <th>pages</th>\n",
       "      <th>price</th>\n",
       "      <th>inventory</th>\n",
       "    </tr>\n",
       "  </thead>\n",
       "  <tbody>\n",
       "    <tr>\n",
       "      <th>0</th>\n",
       "      <td>761183272</td>\n",
       "      <td>http://ecx.images-amazon.com/images/I/61Y5cOdH...</td>\n",
       "      <td>Mom's Family Wall Calendar 2016</td>\n",
       "      <td>Sandra Boynton</td>\n",
       "      <td>Calendars</td>\n",
       "      <td>NaN</td>\n",
       "      <td>586</td>\n",
       "      <td>39.09</td>\n",
       "      <td>38</td>\n",
       "    </tr>\n",
       "    <tr>\n",
       "      <th>1</th>\n",
       "      <td>1623439671</td>\n",
       "      <td>http://ecx.images-amazon.com/images/I/61t-hrSw...</td>\n",
       "      <td>Doug the Pug 2016 Wall Calendar</td>\n",
       "      <td>Doug the Pug</td>\n",
       "      <td>Calendars</td>\n",
       "      <td>NaN</td>\n",
       "      <td>365</td>\n",
       "      <td>11.97</td>\n",
       "      <td>36</td>\n",
       "    </tr>\n",
       "    <tr>\n",
       "      <th>2</th>\n",
       "      <td>B00O80WC6I</td>\n",
       "      <td>http://ecx.images-amazon.com/images/I/41X-KQqs...</td>\n",
       "      <td>Moleskine 2016 Weekly Notebook, 12M, Large, Bl...</td>\n",
       "      <td>Moleskine</td>\n",
       "      <td>Calendars</td>\n",
       "      <td>NaN</td>\n",
       "      <td>112</td>\n",
       "      <td>23.93</td>\n",
       "      <td>79</td>\n",
       "    </tr>\n",
       "    <tr>\n",
       "      <th>3</th>\n",
       "      <td>761182187</td>\n",
       "      <td>http://ecx.images-amazon.com/images/I/61j-4gxJ...</td>\n",
       "      <td>365 Cats Color Page-A-Day Calendar 2016</td>\n",
       "      <td>Workman Publishing</td>\n",
       "      <td>Calendars</td>\n",
       "      <td>NaN</td>\n",
       "      <td>278</td>\n",
       "      <td>6.38</td>\n",
       "      <td>43</td>\n",
       "    </tr>\n",
       "    <tr>\n",
       "      <th>4</th>\n",
       "      <td>1578052084</td>\n",
       "      <td>http://ecx.images-amazon.com/images/I/51Ry4Tsq...</td>\n",
       "      <td>Sierra Club Engagement Calendar 2016</td>\n",
       "      <td>Sierra Club</td>\n",
       "      <td>Calendars</td>\n",
       "      <td>NaN</td>\n",
       "      <td>901</td>\n",
       "      <td>29.52</td>\n",
       "      <td>68</td>\n",
       "    </tr>\n",
       "  </tbody>\n",
       "</table>\n",
       "</div>"
      ],
      "text/plain": [
       "         asin                                           coverURL  \\\n",
       "0   761183272  http://ecx.images-amazon.com/images/I/61Y5cOdH...   \n",
       "1  1623439671  http://ecx.images-amazon.com/images/I/61t-hrSw...   \n",
       "2  B00O80WC6I  http://ecx.images-amazon.com/images/I/41X-KQqs...   \n",
       "3   761182187  http://ecx.images-amazon.com/images/I/61j-4gxJ...   \n",
       "4  1578052084  http://ecx.images-amazon.com/images/I/51Ry4Tsq...   \n",
       "\n",
       "                                               title              author  \\\n",
       "0                    Mom's Family Wall Calendar 2016      Sandra Boynton   \n",
       "1                    Doug the Pug 2016 Wall Calendar        Doug the Pug   \n",
       "2  Moleskine 2016 Weekly Notebook, 12M, Large, Bl...           Moleskine   \n",
       "3            365 Cats Color Page-A-Day Calendar 2016  Workman Publishing   \n",
       "4               Sierra Club Engagement Calendar 2016         Sierra Club   \n",
       "\n",
       "    category  publisherID  pages  price  inventory  \n",
       "0  Calendars          NaN    586  39.09         38  \n",
       "1  Calendars          NaN    365  11.97         36  \n",
       "2  Calendars          NaN    112  23.93         79  \n",
       "3  Calendars          NaN    278   6.38         43  \n",
       "4  Calendars          NaN    901  29.52         68  "
      ]
     },
     "execution_count": 12,
     "metadata": {},
     "output_type": "execute_result"
    }
   ],
   "source": [
    "df = pd.read_csv('./amazon_books.csv') \\\n",
    "        .drop(columns=['filename', 'category_id']) \\\n",
    "        .rename(columns={\n",
    "            'ASIN': 'asin',\n",
    "            'image_url': 'coverURL'\n",
    "        })\n",
    "\n",
    "random_field = lambda low, high: np.random.randint(low, high, (len(df),))\n",
    "df = df.assign(\n",
    "    asin=lambda df: df.asin.apply(lambda asin: asin[:10]),\n",
    "    publisherID=np.nan,\n",
    "    pages=random_field(100, 1000),\n",
    "    price=(np.random.rand() * random_field(2,50)).round(2),\n",
    "    inventory=random_field(12, 100)\n",
    ")\n",
    "\n",
    "dump = df.drop(columns=\"author\")\n",
    "dump.head()\n",
    "\n",
    "df.head()"
   ]
  },
  {
   "cell_type": "code",
   "execution_count": 13,
   "metadata": {},
   "outputs": [],
   "source": [
    "# https://stackoverflow.com/a/55495065/6766123\n",
    "def psql_insert_copy(table, conn, keys, data_iter):\n",
    "    # gets a DBAPI connection that can provide a cursor\n",
    "    data_iter = tqdm(data_iter)\n",
    "    dbapi_conn = conn.connection\n",
    "    \n",
    "    with dbapi_conn.cursor() as cur:\n",
    "        s_buf = io.StringIO()\n",
    "        writer = csv.writer(s_buf)\n",
    "        writer.writerows(data_iter)\n",
    "        s_buf.seek(0)\n",
    "\n",
    "        columns = ', '.join('\"{}\"'.format(k) for k in keys)\n",
    "        if table.schema:\n",
    "            table_name = '{}.{}'.format(table.schema, table.name)\n",
    "        else:\n",
    "            table_name = table.name\n",
    "\n",
    "        sql = 'COPY {} ({}) FROM STDIN WITH CSV'.format(table_name, columns)\n",
    "        cur.copy_expert(sql=sql, file=s_buf)"
   ]
  },
  {
   "cell_type": "code",
   "execution_count": 15,
   "metadata": {},
   "outputs": [
    {
     "data": {
      "application/vnd.jupyter.widget-view+json": {
       "model_id": "100e86cc88d840e2844f3cf27f33759f",
       "version_major": 2,
       "version_minor": 0
      },
      "text/plain": [
       "HBox(children=(FloatProgress(value=1.0, bar_style='info', max=1.0), HTML(value='')))"
      ]
     },
     "metadata": {},
     "output_type": "display_data"
    },
    {
     "name": "stdout",
     "output_type": "stream",
     "text": [
      "\n"
     ]
    }
   ],
   "source": [
    "dump.columns = [c.lower() for c in dump.columns]\n",
    "dump.to_sql('book', engine, schema=\"final\", if_exists=\"append\", index=False, method=psql_insert_copy)"
   ]
  },
  {
   "cell_type": "markdown",
   "metadata": {},
   "source": [
    "## Inserting Author Data"
   ]
  },
  {
   "cell_type": "code",
   "execution_count": null,
   "metadata": {},
   "outputs": [],
   "source": [
    "# delete all rows; can't use replace because of dependencies\n",
    "engine.execute('truncate final.\"author\";') \n",
    "\n",
    "seq_key = engine.execute(\"\"\"SELECT pg_get_serial_sequence('final.\"author\"', 'authorid');\"\"\").fetchall()[0][0]\n",
    "reset_pk = \"ALTER SEQUENCE {} RESTART WITH 1\".format(seq_key)\n",
    "engine.execute(reset_pk)"
   ]
  },
  {
   "cell_type": "code",
   "execution_count": 17,
   "metadata": {},
   "outputs": [
    {
     "data": {
      "application/vnd.jupyter.widget-view+json": {
       "model_id": "5605adedb1484c5980bbea7d42ba1478",
       "version_major": 2,
       "version_minor": 0
      },
      "text/plain": [
       "HBox(children=(FloatProgress(value=1.0, bar_style='info', max=1.0), HTML(value='')))"
      ]
     },
     "metadata": {},
     "output_type": "display_data"
    },
    {
     "name": "stdout",
     "output_type": "stream",
     "text": [
      "\n"
     ]
    }
   ],
   "source": [
    "author_dump = df[['author', 'asin']].rename(columns={'author': 'fullname'}).dropna()\n",
    "author_dump[['fullname']] \\\n",
    "    .drop_duplicates(subset='fullname') \\\n",
    "    .to_sql('author', engine, schema=\"final\", if_exists=\"append\", index=False, method=psql_insert_copy)"
   ]
  },
  {
   "cell_type": "code",
   "execution_count": 19,
   "metadata": {},
   "outputs": [
    {
     "data": {
      "text/plain": [
       "[(117374,)]"
      ]
     },
     "execution_count": 19,
     "metadata": {},
     "output_type": "execute_result"
    }
   ],
   "source": [
    "engine.execute('SELECT COUNT(*) FROM final.\"author\"').fetchall()"
   ]
  },
  {
   "cell_type": "code",
   "execution_count": 20,
   "metadata": {},
   "outputs": [
    {
     "data": {
      "text/html": [
       "<div>\n",
       "<style scoped>\n",
       "    .dataframe tbody tr th:only-of-type {\n",
       "        vertical-align: middle;\n",
       "    }\n",
       "\n",
       "    .dataframe tbody tr th {\n",
       "        vertical-align: top;\n",
       "    }\n",
       "\n",
       "    .dataframe thead th {\n",
       "        text-align: right;\n",
       "    }\n",
       "</style>\n",
       "<table border=\"1\" class=\"dataframe\">\n",
       "  <thead>\n",
       "    <tr style=\"text-align: right;\">\n",
       "      <th></th>\n",
       "      <th>authorid</th>\n",
       "      <th>fullname</th>\n",
       "    </tr>\n",
       "  </thead>\n",
       "  <tbody>\n",
       "    <tr>\n",
       "      <th>0</th>\n",
       "      <td>1</td>\n",
       "      <td>Sandra Boynton</td>\n",
       "    </tr>\n",
       "    <tr>\n",
       "      <th>1</th>\n",
       "      <td>2</td>\n",
       "      <td>Doug the Pug</td>\n",
       "    </tr>\n",
       "    <tr>\n",
       "      <th>2</th>\n",
       "      <td>3</td>\n",
       "      <td>Moleskine</td>\n",
       "    </tr>\n",
       "    <tr>\n",
       "      <th>3</th>\n",
       "      <td>4</td>\n",
       "      <td>Workman Publishing</td>\n",
       "    </tr>\n",
       "    <tr>\n",
       "      <th>4</th>\n",
       "      <td>5</td>\n",
       "      <td>Sierra Club</td>\n",
       "    </tr>\n",
       "  </tbody>\n",
       "</table>\n",
       "</div>"
      ],
      "text/plain": [
       "   authorid            fullname\n",
       "0         1      Sandra Boynton\n",
       "1         2        Doug the Pug\n",
       "2         3           Moleskine\n",
       "3         4  Workman Publishing\n",
       "4         5         Sierra Club"
      ]
     },
     "execution_count": 20,
     "metadata": {},
     "output_type": "execute_result"
    }
   ],
   "source": [
    "query = engine.execute('SELECT * FROM final.\"author\"')\n",
    "author_ids = pd.DataFrame(query.fetchall(), columns=['authorid', 'fullname'])\n",
    "\n",
    "author_ids.head()"
   ]
  },
  {
   "cell_type": "code",
   "execution_count": 21,
   "metadata": {},
   "outputs": [
    {
     "name": "stdout",
     "output_type": "stream",
     "text": [
      "(193159, 3)\n"
     ]
    },
    {
     "data": {
      "text/html": [
       "<div>\n",
       "<style scoped>\n",
       "    .dataframe tbody tr th:only-of-type {\n",
       "        vertical-align: middle;\n",
       "    }\n",
       "\n",
       "    .dataframe tbody tr th {\n",
       "        vertical-align: top;\n",
       "    }\n",
       "\n",
       "    .dataframe thead th {\n",
       "        text-align: right;\n",
       "    }\n",
       "</style>\n",
       "<table border=\"1\" class=\"dataframe\">\n",
       "  <thead>\n",
       "    <tr style=\"text-align: right;\">\n",
       "      <th></th>\n",
       "      <th>fullname</th>\n",
       "      <th>asin</th>\n",
       "      <th>authorid</th>\n",
       "    </tr>\n",
       "  </thead>\n",
       "  <tbody>\n",
       "    <tr>\n",
       "      <th>0</th>\n",
       "      <td>Sandra Boynton</td>\n",
       "      <td>761183272</td>\n",
       "      <td>1</td>\n",
       "    </tr>\n",
       "    <tr>\n",
       "      <th>1</th>\n",
       "      <td>Sandra Boynton</td>\n",
       "      <td>761177817</td>\n",
       "      <td>1</td>\n",
       "    </tr>\n",
       "    <tr>\n",
       "      <th>2</th>\n",
       "      <td>Sandra Boynton</td>\n",
       "      <td>761185631</td>\n",
       "      <td>1</td>\n",
       "    </tr>\n",
       "    <tr>\n",
       "      <th>3</th>\n",
       "      <td>Sandra Boynton</td>\n",
       "      <td>761137998</td>\n",
       "      <td>1</td>\n",
       "    </tr>\n",
       "    <tr>\n",
       "      <th>4</th>\n",
       "      <td>Sandra Boynton</td>\n",
       "      <td>894801996</td>\n",
       "      <td>1</td>\n",
       "    </tr>\n",
       "  </tbody>\n",
       "</table>\n",
       "</div>"
      ],
      "text/plain": [
       "         fullname       asin  authorid\n",
       "0  Sandra Boynton  761183272         1\n",
       "1  Sandra Boynton  761177817         1\n",
       "2  Sandra Boynton  761185631         1\n",
       "3  Sandra Boynton  761137998         1\n",
       "4  Sandra Boynton  894801996         1"
      ]
     },
     "execution_count": 21,
     "metadata": {},
     "output_type": "execute_result"
    }
   ],
   "source": [
    "writtenby = pd.merge(author_dump, author_ids, on='fullname')\n",
    "\n",
    "print(writtenby.shape)\n",
    "writtenby.head()"
   ]
  },
  {
   "cell_type": "code",
   "execution_count": 22,
   "metadata": {},
   "outputs": [
    {
     "data": {
      "application/vnd.jupyter.widget-view+json": {
       "model_id": "202a4002a3e94180b8127f1676b62add",
       "version_major": 2,
       "version_minor": 0
      },
      "text/plain": [
       "HBox(children=(FloatProgress(value=1.0, bar_style='info', max=1.0), HTML(value='')))"
      ]
     },
     "metadata": {},
     "output_type": "display_data"
    },
    {
     "name": "stdout",
     "output_type": "stream",
     "text": [
      "\n"
     ]
    }
   ],
   "source": [
    "writtenby.drop(columns='fullname') \\\n",
    "        .to_sql('writtenby', engine, schema=\"final\", if_exists=\"replace\", index=False, method=psql_insert_copy)"
   ]
  },
  {
   "cell_type": "markdown",
   "metadata": {},
   "source": [
    "## Inserting Users"
   ]
  },
  {
   "cell_type": "code",
   "execution_count": 49,
   "metadata": {},
   "outputs": [],
   "source": [
    "def random_uuids(n):\n",
    "    return (str(uuid.uuid4()) for _ in range(n))"
   ]
  },
  {
   "cell_type": "code",
   "execution_count": 97,
   "metadata": {},
   "outputs": [
    {
     "data": {
      "text/html": [
       "<div>\n",
       "<style scoped>\n",
       "    .dataframe tbody tr th:only-of-type {\n",
       "        vertical-align: middle;\n",
       "    }\n",
       "\n",
       "    .dataframe tbody tr th {\n",
       "        vertical-align: top;\n",
       "    }\n",
       "\n",
       "    .dataframe thead th {\n",
       "        text-align: right;\n",
       "    }\n",
       "</style>\n",
       "<table border=\"1\" class=\"dataframe\">\n",
       "  <thead>\n",
       "    <tr style=\"text-align: right;\">\n",
       "      <th></th>\n",
       "      <th>userid</th>\n",
       "    </tr>\n",
       "  </thead>\n",
       "  <tbody>\n",
       "    <tr>\n",
       "      <th>0</th>\n",
       "      <td>2efd3928-b2de-4967-89f9-388307a90fb5</td>\n",
       "    </tr>\n",
       "    <tr>\n",
       "      <th>1</th>\n",
       "      <td>15246d67-79e5-4a86-856b-21a11010a4d9</td>\n",
       "    </tr>\n",
       "    <tr>\n",
       "      <th>2</th>\n",
       "      <td>24ef752e-ef38-4756-8af1-763fa6bc181e</td>\n",
       "    </tr>\n",
       "    <tr>\n",
       "      <th>3</th>\n",
       "      <td>d4de2b55-4ea3-44c8-a093-7a3c1009ddc9</td>\n",
       "    </tr>\n",
       "    <tr>\n",
       "      <th>4</th>\n",
       "      <td>eb019055-5dec-45ce-858f-dc4914ad9c90</td>\n",
       "    </tr>\n",
       "  </tbody>\n",
       "</table>\n",
       "</div>"
      ],
      "text/plain": [
       "                                 userid\n",
       "0  2efd3928-b2de-4967-89f9-388307a90fb5\n",
       "1  15246d67-79e5-4a86-856b-21a11010a4d9\n",
       "2  24ef752e-ef38-4756-8af1-763fa6bc181e\n",
       "3  d4de2b55-4ea3-44c8-a093-7a3c1009ddc9\n",
       "4  eb019055-5dec-45ce-858f-dc4914ad9c90"
      ]
     },
     "execution_count": 97,
     "metadata": {},
     "output_type": "execute_result"
    }
   ],
   "source": [
    "import uuid\n",
    "\n",
    "NUM_USERS = 1_000\n",
    "\n",
    "users = pd.DataFrame([{'userid': uuid} for uuid in random_uuids(NUM_USERS)])\n",
    "users.head()"
   ]
  },
  {
   "cell_type": "code",
   "execution_count": 98,
   "metadata": {},
   "outputs": [
    {
     "data": {
      "application/vnd.jupyter.widget-view+json": {
       "model_id": "06461c7b827d44a4818e4b26d85bea0f",
       "version_major": 2,
       "version_minor": 0
      },
      "text/plain": [
       "HBox(children=(FloatProgress(value=1.0, bar_style='info', max=1.0), HTML(value='')))"
      ]
     },
     "metadata": {},
     "output_type": "display_data"
    },
    {
     "name": "stdout",
     "output_type": "stream",
     "text": [
      "\n"
     ]
    }
   ],
   "source": [
    "users.to_sql('customer', engine, schema=\"final\", if_exists=\"append\", index=False, method=psql_insert_copy)"
   ]
  },
  {
   "cell_type": "markdown",
   "metadata": {},
   "source": [
    "## Inserting Credit Cards"
   ]
  },
  {
   "cell_type": "code",
   "execution_count": 160,
   "metadata": {},
   "outputs": [],
   "source": [
    "from faker import Faker\n",
    "\n",
    "fake = Faker()\n",
    "Faker.seed(0)\n",
    "\n",
    "def random_credit_cards(n):\n",
    "    for _ in range(n):\n",
    "        yield {\n",
    "            'cardnumber': fake.credit_card_number(card_type='visa'),\n",
    "            'cvv': fake.credit_card_security_code(card_type='visa'),\n",
    "            'expirationdate': fake.credit_card_expire(end='+5y', date_format='20%y-%m-01')\n",
    "        }"
   ]
  },
  {
   "cell_type": "code",
   "execution_count": 161,
   "metadata": {},
   "outputs": [
    {
     "name": "stdout",
     "output_type": "stream",
     "text": [
      "(1750, 4)\n"
     ]
    },
    {
     "data": {
      "text/html": [
       "<div>\n",
       "<style scoped>\n",
       "    .dataframe tbody tr th:only-of-type {\n",
       "        vertical-align: middle;\n",
       "    }\n",
       "\n",
       "    .dataframe tbody tr th {\n",
       "        vertical-align: top;\n",
       "    }\n",
       "\n",
       "    .dataframe thead th {\n",
       "        text-align: right;\n",
       "    }\n",
       "</style>\n",
       "<table border=\"1\" class=\"dataframe\">\n",
       "  <thead>\n",
       "    <tr style=\"text-align: right;\">\n",
       "      <th></th>\n",
       "      <th>userid</th>\n",
       "      <th>cardnumber</th>\n",
       "      <th>cvv</th>\n",
       "      <th>expirationdate</th>\n",
       "    </tr>\n",
       "  </thead>\n",
       "  <tbody>\n",
       "    <tr>\n",
       "      <th>0</th>\n",
       "      <td>36197d06-b097-498f-88f7-071fb4a85a94</td>\n",
       "      <td>4604876475938242</td>\n",
       "      <td>219</td>\n",
       "      <td>2022-06-01</td>\n",
       "    </tr>\n",
       "    <tr>\n",
       "      <th>1</th>\n",
       "      <td>d37b1d38-7798-4f15-bc9a-872d97ff935a</td>\n",
       "      <td>4892411578156590</td>\n",
       "      <td>387</td>\n",
       "      <td>2024-01-01</td>\n",
       "    </tr>\n",
       "    <tr>\n",
       "      <th>2</th>\n",
       "      <td>bbf13de6-a76b-4d6d-b8d1-0db788c4d936</td>\n",
       "      <td>4408016097535138</td>\n",
       "      <td>933</td>\n",
       "      <td>2021-07-01</td>\n",
       "    </tr>\n",
       "    <tr>\n",
       "      <th>3</th>\n",
       "      <td>edb8ef92-5f75-4184-8877-81dc6dca60b6</td>\n",
       "      <td>4711587148418583</td>\n",
       "      <td>398</td>\n",
       "      <td>2025-04-01</td>\n",
       "    </tr>\n",
       "    <tr>\n",
       "      <th>4</th>\n",
       "      <td>3814b635-8886-43e6-8cb8-2b4d31cfee82</td>\n",
       "      <td>4196593423209477</td>\n",
       "      <td>112</td>\n",
       "      <td>2021-07-01</td>\n",
       "    </tr>\n",
       "  </tbody>\n",
       "</table>\n",
       "</div>"
      ],
      "text/plain": [
       "                                 userid        cardnumber  cvv expirationdate\n",
       "0  36197d06-b097-498f-88f7-071fb4a85a94  4604876475938242  219     2022-06-01\n",
       "1  d37b1d38-7798-4f15-bc9a-872d97ff935a  4892411578156590  387     2024-01-01\n",
       "2  bbf13de6-a76b-4d6d-b8d1-0db788c4d936  4408016097535138  933     2021-07-01\n",
       "3  edb8ef92-5f75-4184-8877-81dc6dca60b6  4711587148418583  398     2025-04-01\n",
       "4  3814b635-8886-43e6-8cb8-2b4d31cfee82  4196593423209477  112     2021-07-01"
      ]
     },
     "execution_count": 161,
     "metadata": {},
     "output_type": "execute_result"
    }
   ],
   "source": [
    "NUM_CARDS = int(NUM_USERS*1.75)\n",
    "\n",
    "random_cardholders = users.sample(NUM_CARDS, replace=True).values.squeeze()\n",
    "random_cc_iter = zip(random_cardholders, random_credit_cards(NUM_CARDS))\n",
    "\n",
    "cc_users = pd.DataFrame([{'userid': uid, **cc} for (uid, cc) in random_cc_iter])\n",
    "\n",
    "print(cc_users.shape)\n",
    "cc_users.head()"
   ]
  },
  {
   "cell_type": "code",
   "execution_count": 162,
   "metadata": {},
   "outputs": [
    {
     "data": {
      "application/vnd.jupyter.widget-view+json": {
       "model_id": "e8a2cdd851d9414695dfc21d67ccc891",
       "version_major": 2,
       "version_minor": 0
      },
      "text/plain": [
       "HBox(children=(FloatProgress(value=1.0, bar_style='info', max=1.0), HTML(value='')))"
      ]
     },
     "metadata": {},
     "output_type": "display_data"
    },
    {
     "name": "stdout",
     "output_type": "stream",
     "text": [
      "\n"
     ]
    }
   ],
   "source": [
    "payment_method = cc_users.drop(columns='userid')\n",
    "payment_method.to_sql('paymentmethod', engine, schema=\"final\", if_exists=\"append\", index=False, method=psql_insert_copy)"
   ]
  },
  {
   "cell_type": "code",
   "execution_count": 163,
   "metadata": {},
   "outputs": [
    {
     "data": {
      "application/vnd.jupyter.widget-view+json": {
       "model_id": "a46d28f1a1c248ab87fe18e19ad414a0",
       "version_major": 2,
       "version_minor": 0
      },
      "text/plain": [
       "HBox(children=(FloatProgress(value=1.0, bar_style='info', max=1.0), HTML(value='')))"
      ]
     },
     "metadata": {},
     "output_type": "display_data"
    },
    {
     "name": "stdout",
     "output_type": "stream",
     "text": [
      "\n"
     ]
    }
   ],
   "source": [
    "cardholders = cc_users[['userid', 'cardnumber']]\n",
    "cardholders.to_sql('cardholder', engine, schema=\"final\", if_exists=\"append\", index=False, method=psql_insert_copy)"
   ]
  },
  {
   "cell_type": "markdown",
   "metadata": {},
   "source": [
    "## Simulating Purchases"
   ]
  },
  {
   "cell_type": "code",
   "execution_count": 46,
   "metadata": {},
   "outputs": [],
   "source": [
    "from datetime import datetime\n",
    "\n",
    "# https://stackoverflow.com/a/57722873/6766123\n",
    "\n",
    "def random_dates(first_date, second_date, n):\n",
    "    d1 = datetime.strptime(first_date, \"%m/%d/%Y %I:%M %p\")\n",
    "    d2 = datetime.strptime(second_date, \"%m/%d/%Y %I:%M %p\")\n",
    "    \n",
    "    first_timestamp = int(d1.timestamp())\n",
    "    second_timestamp = int(d2.timestamp())\n",
    "    random_timestamps = np.random.randint(first_timestamp, second_timestamp, (n,))\n",
    "    \n",
    "    return pd.Series(random_timestamps).apply(datetime.fromtimestamp)"
   ]
  },
  {
   "cell_type": "code",
   "execution_count": 164,
   "metadata": {},
   "outputs": [
    {
     "name": "stdout",
     "output_type": "stream",
     "text": [
      "(2392, 4)\n"
     ]
    },
    {
     "data": {
      "text/html": [
       "<div>\n",
       "<style scoped>\n",
       "    .dataframe tbody tr th:only-of-type {\n",
       "        vertical-align: middle;\n",
       "    }\n",
       "\n",
       "    .dataframe tbody tr th {\n",
       "        vertical-align: top;\n",
       "    }\n",
       "\n",
       "    .dataframe thead th {\n",
       "        text-align: right;\n",
       "    }\n",
       "</style>\n",
       "<table border=\"1\" class=\"dataframe\">\n",
       "  <thead>\n",
       "    <tr style=\"text-align: right;\">\n",
       "      <th></th>\n",
       "      <th>userid</th>\n",
       "      <th>cardnumber</th>\n",
       "      <th>orderid</th>\n",
       "      <th>ordertime</th>\n",
       "    </tr>\n",
       "  </thead>\n",
       "  <tbody>\n",
       "    <tr>\n",
       "      <th>238</th>\n",
       "      <td>339d6cec-bc9b-4446-88f2-069cb9977dae</td>\n",
       "      <td>4585798032331211</td>\n",
       "      <td>a622d9d2-a1f8-46cd-83e3-bbc125355dd9</td>\n",
       "      <td>2018-05-24 07:16:17</td>\n",
       "    </tr>\n",
       "    <tr>\n",
       "      <th>640</th>\n",
       "      <td>3937a551-808a-4256-a347-d57256cf56b1</td>\n",
       "      <td>4117209234437951</td>\n",
       "      <td>2c1d3c41-b183-4f25-82b8-9fd2a703af40</td>\n",
       "      <td>2018-05-02 15:23:21</td>\n",
       "    </tr>\n",
       "    <tr>\n",
       "      <th>189</th>\n",
       "      <td>419ca2eb-2051-4525-9e60-395cc28615a6</td>\n",
       "      <td>4290421242648656</td>\n",
       "      <td>0fff2202-5dfa-44ca-a80f-3a7732eda3a4</td>\n",
       "      <td>2018-05-23 03:01:35</td>\n",
       "    </tr>\n",
       "    <tr>\n",
       "      <th>1482</th>\n",
       "      <td>c5a79af9-75ab-4b11-8b26-d61ff73d01f8</td>\n",
       "      <td>4726252170614475</td>\n",
       "      <td>fff51b89-d35f-4319-bd87-bed1df42abae</td>\n",
       "      <td>2018-09-04 17:33:16</td>\n",
       "    </tr>\n",
       "    <tr>\n",
       "      <th>878</th>\n",
       "      <td>bfea4a4f-c75e-4c84-9ad8-2f0f4317738d</td>\n",
       "      <td>4670488300424288</td>\n",
       "      <td>1818cf0d-b8ea-4819-b286-6b4a37377528</td>\n",
       "      <td>2018-07-11 05:12:52</td>\n",
       "    </tr>\n",
       "  </tbody>\n",
       "</table>\n",
       "</div>"
      ],
      "text/plain": [
       "                                    userid        cardnumber  \\\n",
       "238   339d6cec-bc9b-4446-88f2-069cb9977dae  4585798032331211   \n",
       "640   3937a551-808a-4256-a347-d57256cf56b1  4117209234437951   \n",
       "189   419ca2eb-2051-4525-9e60-395cc28615a6  4290421242648656   \n",
       "1482  c5a79af9-75ab-4b11-8b26-d61ff73d01f8  4726252170614475   \n",
       "878   bfea4a4f-c75e-4c84-9ad8-2f0f4317738d  4670488300424288   \n",
       "\n",
       "                                   orderid           ordertime  \n",
       "238   a622d9d2-a1f8-46cd-83e3-bbc125355dd9 2018-05-24 07:16:17  \n",
       "640   2c1d3c41-b183-4f25-82b8-9fd2a703af40 2018-05-02 15:23:21  \n",
       "189   0fff2202-5dfa-44ca-a80f-3a7732eda3a4 2018-05-23 03:01:35  \n",
       "1482  fff51b89-d35f-4319-bd87-bed1df42abae 2018-09-04 17:33:16  \n",
       "878   1818cf0d-b8ea-4819-b286-6b4a37377528 2018-07-11 05:12:52  "
      ]
     },
     "execution_count": 164,
     "metadata": {},
     "output_type": "execute_result"
    }
   ],
   "source": [
    "NUM_PURCHASES = np.random.randint(2000, 3000)\n",
    "NUM_SAMPLED_USERS = np.random.randint(NUM_USERS//3, NUM_USERS//3*2)\n",
    "\n",
    "purchases = cardholders.sample(NUM_SAMPLED_USERS) \\\n",
    "                .sample(NUM_PURCHASES, replace=True) \\\n",
    "                .assign(\n",
    "                    orderid=list(random_uuids(NUM_PURCHASES)),\n",
    "                    ordertime=random_dates(\"1/1/2018 1:30 PM\", \"1/1/2019 4:50 AM\", NUM_PURCHASES)\n",
    "                )\n",
    "\n",
    "assert purchases.userid.isin(cardholders.userid).all()\n",
    "\n",
    "print(purchases.shape)\n",
    "purchases.head()"
   ]
  },
  {
   "cell_type": "code",
   "execution_count": 165,
   "metadata": {},
   "outputs": [
    {
     "data": {
      "text/plain": [
       "array([0.86495488, 0.11705891, 0.0158422 , 0.00214401])"
      ]
     },
     "execution_count": 165,
     "metadata": {},
     "output_type": "execute_result"
    }
   ],
   "source": [
    "# https://stackoverflow.com/a/50425683/6766123\n",
    "def softmax(x, axis=None):\n",
    "    x = x - x.max(axis=axis, keepdims=True)\n",
    "    y = np.exp(x)\n",
    "    return y / y.sum(axis=axis, keepdims=True)\n",
    "\n",
    "MAX_QTY = 4\n",
    "PURCHASE_QUANTITIES = list(range(1,MAX_QTY+1))\n",
    "QTY_WEIGHTS = softmax(-2*np.array(PURCHASE_QUANTITIES))\n",
    "QTY_WEIGHTS"
   ]
  },
  {
   "cell_type": "code",
   "execution_count": 166,
   "metadata": {},
   "outputs": [
    {
     "name": "stdout",
     "output_type": "stream",
     "text": [
      "(10046, 3)\n"
     ]
    },
    {
     "data": {
      "text/html": [
       "<div>\n",
       "<style scoped>\n",
       "    .dataframe tbody tr th:only-of-type {\n",
       "        vertical-align: middle;\n",
       "    }\n",
       "\n",
       "    .dataframe tbody tr th {\n",
       "        vertical-align: top;\n",
       "    }\n",
       "\n",
       "    .dataframe thead th {\n",
       "        text-align: right;\n",
       "    }\n",
       "</style>\n",
       "<table border=\"1\" class=\"dataframe\">\n",
       "  <thead>\n",
       "    <tr style=\"text-align: right;\">\n",
       "      <th></th>\n",
       "      <th>asin</th>\n",
       "      <th>orderid</th>\n",
       "      <th>quantity</th>\n",
       "    </tr>\n",
       "  </thead>\n",
       "  <tbody>\n",
       "    <tr>\n",
       "      <th>205418</th>\n",
       "      <td>1564648990</td>\n",
       "      <td>ef1cd360-073a-4703-9f15-88a4ed409ce6</td>\n",
       "      <td>1</td>\n",
       "    </tr>\n",
       "    <tr>\n",
       "      <th>158462</th>\n",
       "      <td>1452896623</td>\n",
       "      <td>0062ac6b-7568-4435-8229-6069fc747f27</td>\n",
       "      <td>1</td>\n",
       "    </tr>\n",
       "    <tr>\n",
       "      <th>189837</th>\n",
       "      <td>159775451X</td>\n",
       "      <td>f58b8b9b-1866-442c-b06e-7c98be482fec</td>\n",
       "      <td>1</td>\n",
       "    </tr>\n",
       "    <tr>\n",
       "      <th>22693</th>\n",
       "      <td>62128450</td>\n",
       "      <td>952ce858-d059-44f0-9ae5-f2d8a9084364</td>\n",
       "      <td>1</td>\n",
       "    </tr>\n",
       "    <tr>\n",
       "      <th>535</th>\n",
       "      <td>1419717529</td>\n",
       "      <td>1d36c23d-0602-44a1-9434-9ec79a50704f</td>\n",
       "      <td>1</td>\n",
       "    </tr>\n",
       "  </tbody>\n",
       "</table>\n",
       "</div>"
      ],
      "text/plain": [
       "              asin                               orderid  quantity\n",
       "205418  1564648990  ef1cd360-073a-4703-9f15-88a4ed409ce6         1\n",
       "158462  1452896623  0062ac6b-7568-4435-8229-6069fc747f27         1\n",
       "189837  159775451X  f58b8b9b-1866-442c-b06e-7c98be482fec         1\n",
       "22693     62128450  952ce858-d059-44f0-9ae5-f2d8a9084364         1\n",
       "535     1419717529  1d36c23d-0602-44a1-9434-9ec79a50704f         1"
      ]
     },
     "execution_count": 166,
     "metadata": {},
     "output_type": "execute_result"
    }
   ],
   "source": [
    "NUM_PURCHASED_ITEMS = np.random.randint(8000, 12_000)\n",
    "purchased_items = df[['asin']].sample(NUM_PURCHASED_ITEMS, replace=True) \\\n",
    "                            .assign(\n",
    "                                orderid=purchases.orderid.sample(NUM_PURCHASED_ITEMS, replace=True).values,\n",
    "                                quantity=pd.Series(PURCHASE_QUANTITIES) \\\n",
    "                                            .sample(NUM_PURCHASED_ITEMS, \n",
    "                                                    replace=True, \n",
    "                                                    weights=QTY_WEIGHTS) \\\n",
    "                                            .values\n",
    "                            )\n",
    "\n",
    "print(purchased_items.shape)\n",
    "purchased_items.head()"
   ]
  },
  {
   "cell_type": "code",
   "execution_count": 167,
   "metadata": {},
   "outputs": [
    {
     "data": {
      "text/plain": [
       "07bed1da-add4-4a46-85ea-fe0457db1597    14\n",
       "bda313f7-3667-42a7-bcae-1735361c9eef    14\n",
       "fb561465-5eed-455e-b8bd-24948bc6d993    12\n",
       "1b444404-9e43-4381-831c-adbf93bceea1    11\n",
       "d2812f61-70ce-4256-a2af-1114ea9a92cd    11\n",
       "                                        ..\n",
       "7d20f08e-96ee-453e-8ef3-99edc95eb17a     1\n",
       "bfa8e91a-3dcf-410b-aba0-50fd28e59a58     1\n",
       "07e10ff8-3774-4431-b262-4533d262091a     1\n",
       "275b7b92-2b3a-4f24-a24d-a22f0b2b157d     1\n",
       "6d94b173-e3a5-4c9e-821c-9a62606775d4     1\n",
       "Name: orderid, Length: 2360, dtype: int64"
      ]
     },
     "execution_count": 167,
     "metadata": {},
     "output_type": "execute_result"
    }
   ],
   "source": [
    "purchased_items.orderid.value_counts()"
   ]
  },
  {
   "cell_type": "code",
   "execution_count": 168,
   "metadata": {},
   "outputs": [
    {
     "data": {
      "text/plain": [
       "1    8686\n",
       "2    1187\n",
       "3     156\n",
       "4      17\n",
       "Name: quantity, dtype: int64"
      ]
     },
     "execution_count": 168,
     "metadata": {},
     "output_type": "execute_result"
    }
   ],
   "source": [
    "purchased_items.quantity.value_counts()"
   ]
  },
  {
   "cell_type": "code",
   "execution_count": 169,
   "metadata": {},
   "outputs": [
    {
     "data": {
      "application/vnd.jupyter.widget-view+json": {
       "model_id": "9366f684de4440afb5c3e1e21a579228",
       "version_major": 2,
       "version_minor": 0
      },
      "text/plain": [
       "HBox(children=(FloatProgress(value=1.0, bar_style='info', max=1.0), HTML(value='')))"
      ]
     },
     "metadata": {},
     "output_type": "display_data"
    },
    {
     "name": "stdout",
     "output_type": "stream",
     "text": [
      "\n"
     ]
    }
   ],
   "source": [
    "purchases.to_sql('purchase', engine, schema=\"final\", if_exists=\"append\", index=False, method=psql_insert_copy)"
   ]
  },
  {
   "cell_type": "code",
   "execution_count": 170,
   "metadata": {},
   "outputs": [
    {
     "data": {
      "application/vnd.jupyter.widget-view+json": {
       "model_id": "9c25e7b6f65146c7af4aa3e6270103c8",
       "version_major": 2,
       "version_minor": 0
      },
      "text/plain": [
       "HBox(children=(FloatProgress(value=1.0, bar_style='info', max=1.0), HTML(value='')))"
      ]
     },
     "metadata": {},
     "output_type": "display_data"
    },
    {
     "name": "stdout",
     "output_type": "stream",
     "text": [
      "\n"
     ]
    }
   ],
   "source": [
    "purchased_items.to_sql('purchaseditem', \n",
    "                       engine, \n",
    "                       schema=\"final\", \n",
    "                       if_exists=\"append\", \n",
    "                       index=False, \n",
    "                       method=psql_insert_copy)"
   ]
  },
  {
   "cell_type": "code",
   "execution_count": null,
   "metadata": {},
   "outputs": [],
   "source": []
  }
 ],
 "metadata": {
  "kernelspec": {
   "display_name": "Python 3",
   "language": "python",
   "name": "python3"
  },
  "language_info": {
   "codemirror_mode": {
    "name": "ipython",
    "version": 3
   },
   "file_extension": ".py",
   "mimetype": "text/x-python",
   "name": "python",
   "nbconvert_exporter": "python",
   "pygments_lexer": "ipython3",
   "version": "3.7.6"
  },
  "latex_envs": {
   "LaTeX_envs_menu_present": true,
   "autoclose": true,
   "autocomplete": true,
   "bibliofile": "biblio.bib",
   "cite_by": "apalike",
   "current_citInitial": 1,
   "eqLabelWithNumbers": true,
   "eqNumInitial": 1,
   "hotkeys": {
    "equation": "Ctrl-E",
    "itemize": "Ctrl-I"
   },
   "labels_anchors": false,
   "latex_user_defs": false,
   "report_style_numbering": false,
   "user_envs_cfg": false
  }
 },
 "nbformat": 4,
 "nbformat_minor": 4
}
