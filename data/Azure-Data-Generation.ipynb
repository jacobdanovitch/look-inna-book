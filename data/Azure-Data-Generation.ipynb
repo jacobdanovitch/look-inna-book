{
 "cells": [
  {
   "cell_type": "code",
   "execution_count": 8,
   "metadata": {},
   "outputs": [],
   "source": [
    "import io\n",
    "import csv\n",
    "\n",
    "import psycopg2\n",
    "from getpass import getpass\n",
    "\n",
    "from sqlalchemy import create_engine, text\n",
    "from tqdm.auto import tqdm\n",
    "\n",
    "import pandas as pd\n",
    "import numpy as np"
   ]
  },
  {
   "cell_type": "code",
   "execution_count": 2,
   "metadata": {},
   "outputs": [
    {
     "name": "stdout",
     "output_type": "stream",
     "text": [
      "Password: ········\n"
     ]
    }
   ],
   "source": [
    "db_params = dict(user=\"jacobgdt@look-inna-book-postgres-hasura-pg-server\",\n",
    "                 password=getpass('Password: '),\n",
    "                 host=\"look-inna-book-postgres-hasura-pg-server.postgres.database.azure.com\",\n",
    "                 port=\"5432\",\n",
    "                 database=\"look-inna-book\"\n",
    "                )"
   ]
  },
  {
   "cell_type": "code",
   "execution_count": 3,
   "metadata": {},
   "outputs": [
    {
     "data": {
      "text/plain": [
       "['final.\"Book\"',\n",
       " 'Book',\n",
       " 'PaymentInfo',\n",
       " 'ShippingAddress',\n",
       " 'Order',\n",
       " 'Store',\n",
       " 'Offer',\n",
       " 'author',\n",
       " 'book',\n",
       " 'authorbook',\n",
       " 'purchaseditem',\n",
       " 'paymentmethod',\n",
       " 'purchase',\n",
       " 'shipment',\n",
       " 'residentialaddress',\n",
       " 'cardholder',\n",
       " 'customer',\n",
       " 'household',\n",
       " 'phonenumber',\n",
       " 'publisher']"
      ]
     },
     "execution_count": 3,
     "metadata": {},
     "output_type": "execute_result"
    }
   ],
   "source": [
    "conn_str = 'postgresql://{user}:{password}@{host}:{port}/{database}'\n",
    "engine = create_engine(conn_str.format(**db_params))\n",
    "\n",
    "engine.table_names()"
   ]
  },
  {
   "cell_type": "markdown",
   "metadata": {},
   "source": [
    "## Create Schema"
   ]
  },
  {
   "cell_type": "code",
   "execution_count": 11,
   "metadata": {},
   "outputs": [
    {
     "data": {
      "text/plain": [
       "<sqlalchemy.engine.result.ResultProxy at 0x11ce88050>"
      ]
     },
     "execution_count": 11,
     "metadata": {},
     "output_type": "execute_result"
    }
   ],
   "source": [
    "# This doesn't work for whatever reason.\n",
    "# Can just run in pgAdmin or Hasura.\n",
    "\n",
    "with open('../SQL/DDL.sql') as f:\n",
    "    schema = f.read()\n",
    "    \n",
    "engine.execute(text(schema))"
   ]
  },
  {
   "cell_type": "markdown",
   "metadata": {},
   "source": [
    "## Inserting Book Data"
   ]
  },
  {
   "cell_type": "code",
   "execution_count": 12,
   "metadata": {},
   "outputs": [
    {
     "data": {
      "text/html": [
       "<div>\n",
       "<style scoped>\n",
       "    .dataframe tbody tr th:only-of-type {\n",
       "        vertical-align: middle;\n",
       "    }\n",
       "\n",
       "    .dataframe tbody tr th {\n",
       "        vertical-align: top;\n",
       "    }\n",
       "\n",
       "    .dataframe thead th {\n",
       "        text-align: right;\n",
       "    }\n",
       "</style>\n",
       "<table border=\"1\" class=\"dataframe\">\n",
       "  <thead>\n",
       "    <tr style=\"text-align: right;\">\n",
       "      <th></th>\n",
       "      <th>asin</th>\n",
       "      <th>coverURL</th>\n",
       "      <th>title</th>\n",
       "      <th>author</th>\n",
       "      <th>category</th>\n",
       "      <th>publisherID</th>\n",
       "      <th>pages</th>\n",
       "      <th>price</th>\n",
       "      <th>inventory</th>\n",
       "    </tr>\n",
       "  </thead>\n",
       "  <tbody>\n",
       "    <tr>\n",
       "      <th>0</th>\n",
       "      <td>761183272</td>\n",
       "      <td>http://ecx.images-amazon.com/images/I/61Y5cOdH...</td>\n",
       "      <td>Mom's Family Wall Calendar 2016</td>\n",
       "      <td>Sandra Boynton</td>\n",
       "      <td>Calendars</td>\n",
       "      <td>NaN</td>\n",
       "      <td>586</td>\n",
       "      <td>39.09</td>\n",
       "      <td>38</td>\n",
       "    </tr>\n",
       "    <tr>\n",
       "      <th>1</th>\n",
       "      <td>1623439671</td>\n",
       "      <td>http://ecx.images-amazon.com/images/I/61t-hrSw...</td>\n",
       "      <td>Doug the Pug 2016 Wall Calendar</td>\n",
       "      <td>Doug the Pug</td>\n",
       "      <td>Calendars</td>\n",
       "      <td>NaN</td>\n",
       "      <td>365</td>\n",
       "      <td>11.97</td>\n",
       "      <td>36</td>\n",
       "    </tr>\n",
       "    <tr>\n",
       "      <th>2</th>\n",
       "      <td>B00O80WC6I</td>\n",
       "      <td>http://ecx.images-amazon.com/images/I/41X-KQqs...</td>\n",
       "      <td>Moleskine 2016 Weekly Notebook, 12M, Large, Bl...</td>\n",
       "      <td>Moleskine</td>\n",
       "      <td>Calendars</td>\n",
       "      <td>NaN</td>\n",
       "      <td>112</td>\n",
       "      <td>23.93</td>\n",
       "      <td>79</td>\n",
       "    </tr>\n",
       "    <tr>\n",
       "      <th>3</th>\n",
       "      <td>761182187</td>\n",
       "      <td>http://ecx.images-amazon.com/images/I/61j-4gxJ...</td>\n",
       "      <td>365 Cats Color Page-A-Day Calendar 2016</td>\n",
       "      <td>Workman Publishing</td>\n",
       "      <td>Calendars</td>\n",
       "      <td>NaN</td>\n",
       "      <td>278</td>\n",
       "      <td>6.38</td>\n",
       "      <td>43</td>\n",
       "    </tr>\n",
       "    <tr>\n",
       "      <th>4</th>\n",
       "      <td>1578052084</td>\n",
       "      <td>http://ecx.images-amazon.com/images/I/51Ry4Tsq...</td>\n",
       "      <td>Sierra Club Engagement Calendar 2016</td>\n",
       "      <td>Sierra Club</td>\n",
       "      <td>Calendars</td>\n",
       "      <td>NaN</td>\n",
       "      <td>901</td>\n",
       "      <td>29.52</td>\n",
       "      <td>68</td>\n",
       "    </tr>\n",
       "  </tbody>\n",
       "</table>\n",
       "</div>"
      ],
      "text/plain": [
       "         asin                                           coverURL  \\\n",
       "0   761183272  http://ecx.images-amazon.com/images/I/61Y5cOdH...   \n",
       "1  1623439671  http://ecx.images-amazon.com/images/I/61t-hrSw...   \n",
       "2  B00O80WC6I  http://ecx.images-amazon.com/images/I/41X-KQqs...   \n",
       "3   761182187  http://ecx.images-amazon.com/images/I/61j-4gxJ...   \n",
       "4  1578052084  http://ecx.images-amazon.com/images/I/51Ry4Tsq...   \n",
       "\n",
       "                                               title              author  \\\n",
       "0                    Mom's Family Wall Calendar 2016      Sandra Boynton   \n",
       "1                    Doug the Pug 2016 Wall Calendar        Doug the Pug   \n",
       "2  Moleskine 2016 Weekly Notebook, 12M, Large, Bl...           Moleskine   \n",
       "3            365 Cats Color Page-A-Day Calendar 2016  Workman Publishing   \n",
       "4               Sierra Club Engagement Calendar 2016         Sierra Club   \n",
       "\n",
       "    category  publisherID  pages  price  inventory  \n",
       "0  Calendars          NaN    586  39.09         38  \n",
       "1  Calendars          NaN    365  11.97         36  \n",
       "2  Calendars          NaN    112  23.93         79  \n",
       "3  Calendars          NaN    278   6.38         43  \n",
       "4  Calendars          NaN    901  29.52         68  "
      ]
     },
     "execution_count": 12,
     "metadata": {},
     "output_type": "execute_result"
    }
   ],
   "source": [
    "df = pd.read_csv('./amazon_books.csv') \\\n",
    "        .drop(columns=['filename', 'category_id']) \\\n",
    "        .rename(columns={\n",
    "            'ASIN': 'asin',\n",
    "            'image_url': 'coverURL'\n",
    "        })\n",
    "\n",
    "random_field = lambda low, high: np.random.randint(low, high, (len(df),))\n",
    "df = df.assign(\n",
    "    asin=lambda df: df.asin.apply(lambda asin: asin[:10]),\n",
    "    publisherID=np.nan,\n",
    "    pages=random_field(100, 1000),\n",
    "    price=(np.random.rand() * random_field(2,50)).round(2),\n",
    "    inventory=random_field(12, 100)\n",
    ")\n",
    "\n",
    "dump = df.drop(columns=\"author\")\n",
    "dump.head()\n",
    "\n",
    "df.head()"
   ]
  },
  {
   "cell_type": "code",
   "execution_count": 13,
   "metadata": {},
   "outputs": [],
   "source": [
    "# https://stackoverflow.com/a/55495065/6766123\n",
    "def psql_insert_copy(table, conn, keys, data_iter):\n",
    "    # gets a DBAPI connection that can provide a cursor\n",
    "    data_iter = tqdm(data_iter)\n",
    "    dbapi_conn = conn.connection\n",
    "    \n",
    "    with dbapi_conn.cursor() as cur:\n",
    "        s_buf = io.StringIO()\n",
    "        writer = csv.writer(s_buf)\n",
    "        writer.writerows(data_iter)\n",
    "        s_buf.seek(0)\n",
    "\n",
    "        columns = ', '.join('\"{}\"'.format(k) for k in keys)\n",
    "        if table.schema:\n",
    "            table_name = '{}.{}'.format(table.schema, table.name)\n",
    "        else:\n",
    "            table_name = table.name\n",
    "\n",
    "        sql = 'COPY {} ({}) FROM STDIN WITH CSV'.format(table_name, columns)\n",
    "        cur.copy_expert(sql=sql, file=s_buf)"
   ]
  },
  {
   "cell_type": "code",
   "execution_count": 15,
   "metadata": {},
   "outputs": [
    {
     "data": {
      "application/vnd.jupyter.widget-view+json": {
       "model_id": "100e86cc88d840e2844f3cf27f33759f",
       "version_major": 2,
       "version_minor": 0
      },
      "text/plain": [
       "HBox(children=(FloatProgress(value=1.0, bar_style='info', max=1.0), HTML(value='')))"
      ]
     },
     "metadata": {},
     "output_type": "display_data"
    },
    {
     "name": "stdout",
     "output_type": "stream",
     "text": [
      "\n"
     ]
    }
   ],
   "source": [
    "dump.columns = [c.lower() for c in dump.columns]\n",
    "dump.to_sql('book', engine, schema=\"final\", if_exists=\"append\", index=False, method=psql_insert_copy)"
   ]
  },
  {
   "cell_type": "markdown",
   "metadata": {},
   "source": [
    "## Inserting Author Data"
   ]
  },
  {
   "cell_type": "code",
   "execution_count": null,
   "metadata": {},
   "outputs": [],
   "source": [
    "# delete all rows; can't use replace because of dependencies\n",
    "engine.execute('truncate final.\"author\";') \n",
    "\n",
    "seq_key = engine.execute(\"\"\"SELECT pg_get_serial_sequence('final.\"author\"', 'authorid');\"\"\").fetchall()[0][0]\n",
    "reset_pk = \"ALTER SEQUENCE {} RESTART WITH 1\".format(seq_key)\n",
    "engine.execute(reset_pk)"
   ]
  },
  {
   "cell_type": "code",
   "execution_count": 17,
   "metadata": {},
   "outputs": [
    {
     "data": {
      "application/vnd.jupyter.widget-view+json": {
       "model_id": "5605adedb1484c5980bbea7d42ba1478",
       "version_major": 2,
       "version_minor": 0
      },
      "text/plain": [
       "HBox(children=(FloatProgress(value=1.0, bar_style='info', max=1.0), HTML(value='')))"
      ]
     },
     "metadata": {},
     "output_type": "display_data"
    },
    {
     "name": "stdout",
     "output_type": "stream",
     "text": [
      "\n"
     ]
    }
   ],
   "source": [
    "author_dump = df[['author', 'asin']].rename(columns={'author': 'fullname'}).dropna()\n",
    "author_dump[['fullname']] \\\n",
    "    .drop_duplicates(subset='fullname') \\\n",
    "    .to_sql('author', engine, schema=\"final\", if_exists=\"append\", index=False, method=psql_insert_copy)"
   ]
  },
  {
   "cell_type": "code",
   "execution_count": 19,
   "metadata": {},
   "outputs": [
    {
     "data": {
      "text/plain": [
       "[(117374,)]"
      ]
     },
     "execution_count": 19,
     "metadata": {},
     "output_type": "execute_result"
    }
   ],
   "source": [
    "engine.execute('SELECT COUNT(*) FROM final.\"author\"').fetchall()"
   ]
  },
  {
   "cell_type": "code",
   "execution_count": 20,
   "metadata": {},
   "outputs": [
    {
     "data": {
      "text/html": [
       "<div>\n",
       "<style scoped>\n",
       "    .dataframe tbody tr th:only-of-type {\n",
       "        vertical-align: middle;\n",
       "    }\n",
       "\n",
       "    .dataframe tbody tr th {\n",
       "        vertical-align: top;\n",
       "    }\n",
       "\n",
       "    .dataframe thead th {\n",
       "        text-align: right;\n",
       "    }\n",
       "</style>\n",
       "<table border=\"1\" class=\"dataframe\">\n",
       "  <thead>\n",
       "    <tr style=\"text-align: right;\">\n",
       "      <th></th>\n",
       "      <th>authorid</th>\n",
       "      <th>fullname</th>\n",
       "    </tr>\n",
       "  </thead>\n",
       "  <tbody>\n",
       "    <tr>\n",
       "      <th>0</th>\n",
       "      <td>1</td>\n",
       "      <td>Sandra Boynton</td>\n",
       "    </tr>\n",
       "    <tr>\n",
       "      <th>1</th>\n",
       "      <td>2</td>\n",
       "      <td>Doug the Pug</td>\n",
       "    </tr>\n",
       "    <tr>\n",
       "      <th>2</th>\n",
       "      <td>3</td>\n",
       "      <td>Moleskine</td>\n",
       "    </tr>\n",
       "    <tr>\n",
       "      <th>3</th>\n",
       "      <td>4</td>\n",
       "      <td>Workman Publishing</td>\n",
       "    </tr>\n",
       "    <tr>\n",
       "      <th>4</th>\n",
       "      <td>5</td>\n",
       "      <td>Sierra Club</td>\n",
       "    </tr>\n",
       "  </tbody>\n",
       "</table>\n",
       "</div>"
      ],
      "text/plain": [
       "   authorid            fullname\n",
       "0         1      Sandra Boynton\n",
       "1         2        Doug the Pug\n",
       "2         3           Moleskine\n",
       "3         4  Workman Publishing\n",
       "4         5         Sierra Club"
      ]
     },
     "execution_count": 20,
     "metadata": {},
     "output_type": "execute_result"
    }
   ],
   "source": [
    "query = engine.execute('SELECT * FROM final.\"author\"')\n",
    "author_ids = pd.DataFrame(query.fetchall(), columns=['authorid', 'fullname'])\n",
    "\n",
    "author_ids.head()"
   ]
  },
  {
   "cell_type": "code",
   "execution_count": 21,
   "metadata": {},
   "outputs": [
    {
     "name": "stdout",
     "output_type": "stream",
     "text": [
      "(193159, 3)\n"
     ]
    },
    {
     "data": {
      "text/html": [
       "<div>\n",
       "<style scoped>\n",
       "    .dataframe tbody tr th:only-of-type {\n",
       "        vertical-align: middle;\n",
       "    }\n",
       "\n",
       "    .dataframe tbody tr th {\n",
       "        vertical-align: top;\n",
       "    }\n",
       "\n",
       "    .dataframe thead th {\n",
       "        text-align: right;\n",
       "    }\n",
       "</style>\n",
       "<table border=\"1\" class=\"dataframe\">\n",
       "  <thead>\n",
       "    <tr style=\"text-align: right;\">\n",
       "      <th></th>\n",
       "      <th>fullname</th>\n",
       "      <th>asin</th>\n",
       "      <th>authorid</th>\n",
       "    </tr>\n",
       "  </thead>\n",
       "  <tbody>\n",
       "    <tr>\n",
       "      <th>0</th>\n",
       "      <td>Sandra Boynton</td>\n",
       "      <td>761183272</td>\n",
       "      <td>1</td>\n",
       "    </tr>\n",
       "    <tr>\n",
       "      <th>1</th>\n",
       "      <td>Sandra Boynton</td>\n",
       "      <td>761177817</td>\n",
       "      <td>1</td>\n",
       "    </tr>\n",
       "    <tr>\n",
       "      <th>2</th>\n",
       "      <td>Sandra Boynton</td>\n",
       "      <td>761185631</td>\n",
       "      <td>1</td>\n",
       "    </tr>\n",
       "    <tr>\n",
       "      <th>3</th>\n",
       "      <td>Sandra Boynton</td>\n",
       "      <td>761137998</td>\n",
       "      <td>1</td>\n",
       "    </tr>\n",
       "    <tr>\n",
       "      <th>4</th>\n",
       "      <td>Sandra Boynton</td>\n",
       "      <td>894801996</td>\n",
       "      <td>1</td>\n",
       "    </tr>\n",
       "  </tbody>\n",
       "</table>\n",
       "</div>"
      ],
      "text/plain": [
       "         fullname       asin  authorid\n",
       "0  Sandra Boynton  761183272         1\n",
       "1  Sandra Boynton  761177817         1\n",
       "2  Sandra Boynton  761185631         1\n",
       "3  Sandra Boynton  761137998         1\n",
       "4  Sandra Boynton  894801996         1"
      ]
     },
     "execution_count": 21,
     "metadata": {},
     "output_type": "execute_result"
    }
   ],
   "source": [
    "writtenby = pd.merge(author_dump, author_ids, on='fullname')\n",
    "\n",
    "print(writtenby.shape)\n",
    "writtenby.head()"
   ]
  },
  {
   "cell_type": "code",
   "execution_count": 22,
   "metadata": {},
   "outputs": [
    {
     "data": {
      "application/vnd.jupyter.widget-view+json": {
       "model_id": "202a4002a3e94180b8127f1676b62add",
       "version_major": 2,
       "version_minor": 0
      },
      "text/plain": [
       "HBox(children=(FloatProgress(value=1.0, bar_style='info', max=1.0), HTML(value='')))"
      ]
     },
     "metadata": {},
     "output_type": "display_data"
    },
    {
     "name": "stdout",
     "output_type": "stream",
     "text": [
      "\n"
     ]
    }
   ],
   "source": [
    "writtenby.drop(columns='fullname') \\\n",
    "        .to_sql('writtenby', engine, schema=\"final\", if_exists=\"replace\", index=False, method=psql_insert_copy)"
   ]
  },
  {
   "cell_type": "markdown",
   "metadata": {},
   "source": [
    "## Inserting Users"
   ]
  },
  {
   "cell_type": "code",
   "execution_count": 49,
   "metadata": {},
   "outputs": [],
   "source": [
    "def random_uuids(n):\n",
    "    return (str(uuid.uuid4()) for _ in range(n))"
   ]
  },
  {
   "cell_type": "code",
   "execution_count": 97,
   "metadata": {},
   "outputs": [
    {
     "data": {
      "text/html": [
       "<div>\n",
       "<style scoped>\n",
       "    .dataframe tbody tr th:only-of-type {\n",
       "        vertical-align: middle;\n",
       "    }\n",
       "\n",
       "    .dataframe tbody tr th {\n",
       "        vertical-align: top;\n",
       "    }\n",
       "\n",
       "    .dataframe thead th {\n",
       "        text-align: right;\n",
       "    }\n",
       "</style>\n",
       "<table border=\"1\" class=\"dataframe\">\n",
       "  <thead>\n",
       "    <tr style=\"text-align: right;\">\n",
       "      <th></th>\n",
       "      <th>userid</th>\n",
       "    </tr>\n",
       "  </thead>\n",
       "  <tbody>\n",
       "    <tr>\n",
       "      <th>0</th>\n",
       "      <td>2efd3928-b2de-4967-89f9-388307a90fb5</td>\n",
       "    </tr>\n",
       "    <tr>\n",
       "      <th>1</th>\n",
       "      <td>15246d67-79e5-4a86-856b-21a11010a4d9</td>\n",
       "    </tr>\n",
       "    <tr>\n",
       "      <th>2</th>\n",
       "      <td>24ef752e-ef38-4756-8af1-763fa6bc181e</td>\n",
       "    </tr>\n",
       "    <tr>\n",
       "      <th>3</th>\n",
       "      <td>d4de2b55-4ea3-44c8-a093-7a3c1009ddc9</td>\n",
       "    </tr>\n",
       "    <tr>\n",
       "      <th>4</th>\n",
       "      <td>eb019055-5dec-45ce-858f-dc4914ad9c90</td>\n",
       "    </tr>\n",
       "  </tbody>\n",
       "</table>\n",
       "</div>"
      ],
      "text/plain": [
       "                                 userid\n",
       "0  2efd3928-b2de-4967-89f9-388307a90fb5\n",
       "1  15246d67-79e5-4a86-856b-21a11010a4d9\n",
       "2  24ef752e-ef38-4756-8af1-763fa6bc181e\n",
       "3  d4de2b55-4ea3-44c8-a093-7a3c1009ddc9\n",
       "4  eb019055-5dec-45ce-858f-dc4914ad9c90"
      ]
     },
     "execution_count": 97,
     "metadata": {},
     "output_type": "execute_result"
    }
   ],
   "source": [
    "import uuid\n",
    "\n",
    "NUM_USERS = 1_000\n",
    "\n",
    "users = pd.DataFrame([{'userid': uuid} for uuid in random_uuids(NUM_USERS)])\n",
    "users.head()"
   ]
  },
  {
   "cell_type": "code",
   "execution_count": 98,
   "metadata": {},
   "outputs": [
    {
     "data": {
      "application/vnd.jupyter.widget-view+json": {
       "model_id": "06461c7b827d44a4818e4b26d85bea0f",
       "version_major": 2,
       "version_minor": 0
      },
      "text/plain": [
       "HBox(children=(FloatProgress(value=1.0, bar_style='info', max=1.0), HTML(value='')))"
      ]
     },
     "metadata": {},
     "output_type": "display_data"
    },
    {
     "name": "stdout",
     "output_type": "stream",
     "text": [
      "\n"
     ]
    }
   ],
   "source": [
    "users.to_sql('customer', engine, schema=\"final\", if_exists=\"append\", index=False, method=psql_insert_copy)"
   ]
  },
  {
   "cell_type": "markdown",
   "metadata": {},
   "source": [
    "## Simulating Purchases"
   ]
  },
  {
   "cell_type": "code",
   "execution_count": 46,
   "metadata": {},
   "outputs": [],
   "source": [
    "from datetime import datetime\n",
    "\n",
    "# https://stackoverflow.com/a/57722873/6766123\n",
    "\n",
    "def random_dates(first_date, second_date, n):\n",
    "    d1 = datetime.strptime(first_date, \"%m/%d/%Y %I:%M %p\")\n",
    "    d2 = datetime.strptime(second_date, \"%m/%d/%Y %I:%M %p\")\n",
    "    \n",
    "    first_timestamp = int(d1.timestamp())\n",
    "    second_timestamp = int(d2.timestamp())\n",
    "    random_timestamps = np.random.randint(first_timestamp, second_timestamp, (n,))\n",
    "    \n",
    "    return pd.Series(random_timestamps).apply(datetime.fromtimestamp)"
   ]
  },
  {
   "cell_type": "code",
   "execution_count": 99,
   "metadata": {},
   "outputs": [
    {
     "name": "stdout",
     "output_type": "stream",
     "text": [
      "(2600, 3)\n"
     ]
    },
    {
     "data": {
      "text/html": [
       "<div>\n",
       "<style scoped>\n",
       "    .dataframe tbody tr th:only-of-type {\n",
       "        vertical-align: middle;\n",
       "    }\n",
       "\n",
       "    .dataframe tbody tr th {\n",
       "        vertical-align: top;\n",
       "    }\n",
       "\n",
       "    .dataframe thead th {\n",
       "        text-align: right;\n",
       "    }\n",
       "</style>\n",
       "<table border=\"1\" class=\"dataframe\">\n",
       "  <thead>\n",
       "    <tr style=\"text-align: right;\">\n",
       "      <th></th>\n",
       "      <th>userid</th>\n",
       "      <th>orderid</th>\n",
       "      <th>ordertime</th>\n",
       "    </tr>\n",
       "  </thead>\n",
       "  <tbody>\n",
       "    <tr>\n",
       "      <th>117</th>\n",
       "      <td>b2280b1b-c036-4d55-b600-4b501326c3e2</td>\n",
       "      <td>b5625b33-f5ed-457f-abae-11981a26c1a6</td>\n",
       "      <td>2018-08-28 03:59:09</td>\n",
       "    </tr>\n",
       "    <tr>\n",
       "      <th>66</th>\n",
       "      <td>c3d708dc-9781-4089-8d9f-e412e197b4f1</td>\n",
       "      <td>7adcd152-b418-46f8-a338-6b15b6550f11</td>\n",
       "      <td>2018-08-31 14:50:40</td>\n",
       "    </tr>\n",
       "    <tr>\n",
       "      <th>762</th>\n",
       "      <td>b569642b-b337-45fc-bd55-85a170f67eb2</td>\n",
       "      <td>faaff1c1-f6db-4cc8-9f6f-2b036ad76ae4</td>\n",
       "      <td>2018-05-09 23:31:55</td>\n",
       "    </tr>\n",
       "    <tr>\n",
       "      <th>88</th>\n",
       "      <td>e84c0ee5-257c-4915-b855-5d7fcf62a6f4</td>\n",
       "      <td>0ac758ef-09ff-47e3-8ace-7878984b1b9a</td>\n",
       "      <td>2018-12-17 05:19:31</td>\n",
       "    </tr>\n",
       "    <tr>\n",
       "      <th>189</th>\n",
       "      <td>d26a0954-ac0a-42fc-80f0-987ec718df5c</td>\n",
       "      <td>f4a3e9af-e47a-4d39-bd41-9508db913b93</td>\n",
       "      <td>2018-06-28 02:18:15</td>\n",
       "    </tr>\n",
       "  </tbody>\n",
       "</table>\n",
       "</div>"
      ],
      "text/plain": [
       "                                   userid  \\\n",
       "117  b2280b1b-c036-4d55-b600-4b501326c3e2   \n",
       "66   c3d708dc-9781-4089-8d9f-e412e197b4f1   \n",
       "762  b569642b-b337-45fc-bd55-85a170f67eb2   \n",
       "88   e84c0ee5-257c-4915-b855-5d7fcf62a6f4   \n",
       "189  d26a0954-ac0a-42fc-80f0-987ec718df5c   \n",
       "\n",
       "                                  orderid           ordertime  \n",
       "117  b5625b33-f5ed-457f-abae-11981a26c1a6 2018-08-28 03:59:09  \n",
       "66   7adcd152-b418-46f8-a338-6b15b6550f11 2018-08-31 14:50:40  \n",
       "762  faaff1c1-f6db-4cc8-9f6f-2b036ad76ae4 2018-05-09 23:31:55  \n",
       "88   0ac758ef-09ff-47e3-8ace-7878984b1b9a 2018-12-17 05:19:31  \n",
       "189  f4a3e9af-e47a-4d39-bd41-9508db913b93 2018-06-28 02:18:15  "
      ]
     },
     "execution_count": 99,
     "metadata": {},
     "output_type": "execute_result"
    }
   ],
   "source": [
    "NUM_PURCHASES = np.random.randint(2000, 3000)\n",
    "NUM_SAMPLED_USERS = np.random.randint(NUM_USERS//3, NUM_USERS//3*2)\n",
    "\n",
    "purchases = users.sample(NUM_SAMPLED_USERS) \\\n",
    "                .sample(NUM_PURCHASES, replace=True) \\\n",
    "                .assign(\n",
    "                    orderid=list(random_uuids(NUM_PURCHASES)),\n",
    "                    ordertime=random_dates(\"1/1/2018 1:30 PM\", \"1/1/2019 4:50 AM\", NUM_PURCHASES)\n",
    "                )\n",
    "\n",
    "assert purchases.userid.isin(users.userid).all()\n",
    "\n",
    "print(purchases.shape)\n",
    "purchases.head()"
   ]
  },
  {
   "cell_type": "code",
   "execution_count": 106,
   "metadata": {},
   "outputs": [
    {
     "data": {
      "text/plain": [
       "array([0.86495488, 0.11705891, 0.0158422 , 0.00214401])"
      ]
     },
     "execution_count": 106,
     "metadata": {},
     "output_type": "execute_result"
    }
   ],
   "source": [
    "# https://stackoverflow.com/a/50425683/6766123\n",
    "def softmax(x, axis=None):\n",
    "    x = x - x.max(axis=axis, keepdims=True)\n",
    "    y = np.exp(x)\n",
    "    return y / y.sum(axis=axis, keepdims=True)\n",
    "\n",
    "MAX_QTY = 4\n",
    "PURCHASE_QUANTITIES = list(range(1,MAX_QTY+1))\n",
    "QTY_WEIGHTS = softmax(-2*np.array(PURCHASE_QUANTITIES))\n",
    "QTY_WEIGHTS"
   ]
  },
  {
   "cell_type": "code",
   "execution_count": 107,
   "metadata": {},
   "outputs": [
    {
     "name": "stdout",
     "output_type": "stream",
     "text": [
      "(9208, 3)\n"
     ]
    },
    {
     "data": {
      "text/html": [
       "<div>\n",
       "<style scoped>\n",
       "    .dataframe tbody tr th:only-of-type {\n",
       "        vertical-align: middle;\n",
       "    }\n",
       "\n",
       "    .dataframe tbody tr th {\n",
       "        vertical-align: top;\n",
       "    }\n",
       "\n",
       "    .dataframe thead th {\n",
       "        text-align: right;\n",
       "    }\n",
       "</style>\n",
       "<table border=\"1\" class=\"dataframe\">\n",
       "  <thead>\n",
       "    <tr style=\"text-align: right;\">\n",
       "      <th></th>\n",
       "      <th>asin</th>\n",
       "      <th>orderid</th>\n",
       "      <th>quantity</th>\n",
       "    </tr>\n",
       "  </thead>\n",
       "  <tbody>\n",
       "    <tr>\n",
       "      <th>161362</th>\n",
       "      <td>1558964975</td>\n",
       "      <td>e1d44d9c-2623-4fd0-b1aa-4744769b7218</td>\n",
       "      <td>1</td>\n",
       "    </tr>\n",
       "    <tr>\n",
       "      <th>128808</th>\n",
       "      <td>870204629</td>\n",
       "      <td>4402095e-aab7-47fe-a332-556786dd6e0e</td>\n",
       "      <td>2</td>\n",
       "    </tr>\n",
       "    <tr>\n",
       "      <th>131587</th>\n",
       "      <td>038574238X</td>\n",
       "      <td>7624058b-b0eb-4e13-a556-6583bfa0324b</td>\n",
       "      <td>1</td>\n",
       "    </tr>\n",
       "    <tr>\n",
       "      <th>103694</th>\n",
       "      <td>177041133X</td>\n",
       "      <td>4952d3aa-e969-4002-885b-a086ad858419</td>\n",
       "      <td>1</td>\n",
       "    </tr>\n",
       "    <tr>\n",
       "      <th>10934</th>\n",
       "      <td>449224430</td>\n",
       "      <td>1d175dbe-01ab-4bce-bf23-d877b7e97dde</td>\n",
       "      <td>1</td>\n",
       "    </tr>\n",
       "  </tbody>\n",
       "</table>\n",
       "</div>"
      ],
      "text/plain": [
       "              asin                               orderid  quantity\n",
       "161362  1558964975  e1d44d9c-2623-4fd0-b1aa-4744769b7218         1\n",
       "128808   870204629  4402095e-aab7-47fe-a332-556786dd6e0e         2\n",
       "131587  038574238X  7624058b-b0eb-4e13-a556-6583bfa0324b         1\n",
       "103694  177041133X  4952d3aa-e969-4002-885b-a086ad858419         1\n",
       "10934    449224430  1d175dbe-01ab-4bce-bf23-d877b7e97dde         1"
      ]
     },
     "execution_count": 107,
     "metadata": {},
     "output_type": "execute_result"
    }
   ],
   "source": [
    "NUM_PURCHASED_ITEMS = np.random.randint(8000, 12_000)\n",
    "purchased_items = df[['asin']].sample(NUM_PURCHASED_ITEMS, replace=True) \\\n",
    "                            .assign(\n",
    "                                orderid=purchases.orderid.sample(NUM_PURCHASED_ITEMS, replace=True).values,\n",
    "                                quantity=pd.Series(PURCHASE_QUANTITIES) \\\n",
    "                                            .sample(NUM_PURCHASED_ITEMS, \n",
    "                                                    replace=True, \n",
    "                                                    weights=QTY_WEIGHTS) \\\n",
    "                                            .values\n",
    "                            )\n",
    "\n",
    "print(purchased_items.shape)\n",
    "purchased_items.head()"
   ]
  },
  {
   "cell_type": "code",
   "execution_count": 108,
   "metadata": {},
   "outputs": [
    {
     "data": {
      "text/plain": [
       "165a947e-fe58-472d-a1f0-e2f3e7525964    11\n",
       "edee4bf8-fe4c-4c84-9aad-0bfcb9ffe242    10\n",
       "4402095e-aab7-47fe-a332-556786dd6e0e    10\n",
       "adf9f1dc-5137-491a-ab92-26fa89bc895e    10\n",
       "78ab8c66-cd42-4887-900e-0f22545013ca    10\n",
       "                                        ..\n",
       "9298b769-8c6c-4d59-a177-346744307a4d     1\n",
       "5b1ad1b3-456f-4850-8b4a-0f1b4dd4dae0     1\n",
       "891a98c9-56d2-477a-88ab-55a581c7d9b3     1\n",
       "437c6afc-e8b5-4e6d-82bf-2ccd2b1dc111     1\n",
       "135c6237-9831-4393-8f65-8862e306d98b     1\n",
       "Name: orderid, Length: 2525, dtype: int64"
      ]
     },
     "execution_count": 108,
     "metadata": {},
     "output_type": "execute_result"
    }
   ],
   "source": [
    "purchased_items.orderid.value_counts()"
   ]
  },
  {
   "cell_type": "code",
   "execution_count": 109,
   "metadata": {},
   "outputs": [
    {
     "data": {
      "text/plain": [
       "1    7955\n",
       "2    1080\n",
       "3     150\n",
       "4      23\n",
       "Name: quantity, dtype: int64"
      ]
     },
     "execution_count": 109,
     "metadata": {},
     "output_type": "execute_result"
    }
   ],
   "source": [
    "purchased_items.quantity.value_counts()"
   ]
  },
  {
   "cell_type": "code",
   "execution_count": 95,
   "metadata": {},
   "outputs": [
    {
     "data": {
      "text/plain": [
       "True"
      ]
     },
     "execution_count": 95,
     "metadata": {},
     "output_type": "execute_result"
    }
   ],
   "source": [
    "'1db54b37-1114-4f0d-a510-d51a28ab04ed' in users.userid.values"
   ]
  },
  {
   "cell_type": "code",
   "execution_count": 110,
   "metadata": {},
   "outputs": [
    {
     "data": {
      "application/vnd.jupyter.widget-view+json": {
       "model_id": "1560dd31ce334e35819a44b06b365957",
       "version_major": 2,
       "version_minor": 0
      },
      "text/plain": [
       "HBox(children=(FloatProgress(value=1.0, bar_style='info', max=1.0), HTML(value='')))"
      ]
     },
     "metadata": {},
     "output_type": "display_data"
    },
    {
     "name": "stdout",
     "output_type": "stream",
     "text": [
      "\n"
     ]
    }
   ],
   "source": [
    "purchases.to_sql('purchase', engine, schema=\"final\", if_exists=\"append\", index=False, method=psql_insert_copy)"
   ]
  },
  {
   "cell_type": "code",
   "execution_count": 111,
   "metadata": {},
   "outputs": [
    {
     "data": {
      "application/vnd.jupyter.widget-view+json": {
       "model_id": "04efe49430b843df85c0fd77bcf8f1c1",
       "version_major": 2,
       "version_minor": 0
      },
      "text/plain": [
       "HBox(children=(FloatProgress(value=1.0, bar_style='info', max=1.0), HTML(value='')))"
      ]
     },
     "metadata": {},
     "output_type": "display_data"
    },
    {
     "name": "stdout",
     "output_type": "stream",
     "text": [
      "\n"
     ]
    }
   ],
   "source": [
    "purchased_items.to_sql('purchaseditem', \n",
    "                       engine, \n",
    "                       schema=\"final\", \n",
    "                       if_exists=\"append\", \n",
    "                       index=False, \n",
    "                       method=psql_insert_copy)"
   ]
  },
  {
   "cell_type": "code",
   "execution_count": null,
   "metadata": {},
   "outputs": [],
   "source": []
  }
 ],
 "metadata": {
  "kernelspec": {
   "display_name": "Python 3",
   "language": "python",
   "name": "python3"
  },
  "language_info": {
   "codemirror_mode": {
    "name": "ipython",
    "version": 3
   },
   "file_extension": ".py",
   "mimetype": "text/x-python",
   "name": "python",
   "nbconvert_exporter": "python",
   "pygments_lexer": "ipython3",
   "version": "3.7.6"
  },
  "latex_envs": {
   "LaTeX_envs_menu_present": true,
   "autoclose": true,
   "autocomplete": true,
   "bibliofile": "biblio.bib",
   "cite_by": "apalike",
   "current_citInitial": 1,
   "eqLabelWithNumbers": true,
   "eqNumInitial": 1,
   "hotkeys": {
    "equation": "Ctrl-E",
    "itemize": "Ctrl-I"
   },
   "labels_anchors": false,
   "latex_user_defs": false,
   "report_style_numbering": false,
   "user_envs_cfg": false
  }
 },
 "nbformat": 4,
 "nbformat_minor": 4
}
