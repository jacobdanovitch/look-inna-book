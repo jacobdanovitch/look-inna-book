{
 "cells": [
  {
   "cell_type": "code",
   "execution_count": 8,
   "metadata": {},
   "outputs": [],
   "source": [
    "import io\n",
    "import csv\n",
    "\n",
    "import psycopg2\n",
    "from getpass import getpass\n",
    "\n",
    "from sqlalchemy import create_engine, text\n",
    "from tqdm.auto import tqdm\n",
    "\n",
    "import pandas as pd\n",
    "import numpy as np"
   ]
  },
  {
   "cell_type": "code",
   "execution_count": 194,
   "metadata": {},
   "outputs": [
    {
     "name": "stdout",
     "output_type": "stream",
     "text": [
      "User: jacobgdt\n",
      "Password: ········\n"
     ]
    }
   ],
   "source": [
    "db_params = dict(user=f\"{input('User: ')}@look-inna-book-postgres-hasura-pg-server\",\n",
    "                 password=getpass('Password: '),\n",
    "                 host=\"look-inna-book-postgres-hasura-pg-server.postgres.database.azure.com\",\n",
    "                 port=\"5432\",\n",
    "                 database=\"look-inna-book\"\n",
    "                )"
   ]
  },
  {
   "cell_type": "code",
   "execution_count": 195,
   "metadata": {},
   "outputs": [
    {
     "data": {
      "text/plain": [
       "['final.\"Book\"',\n",
       " 'PaymentInfo',\n",
       " 'ShippingAddress',\n",
       " 'Order',\n",
       " 'Store',\n",
       " 'authorbook',\n",
       " 'purchaseditem',\n",
       " 'paymentmethod',\n",
       " 'author',\n",
       " 'book',\n",
       " 'shipment',\n",
       " 'cardholder',\n",
       " 'residentialaddress',\n",
       " 'customer',\n",
       " 'household',\n",
       " 'phonenumber',\n",
       " 'purchase',\n",
       " 'Book',\n",
       " 'Offer',\n",
       " 'publisher']"
      ]
     },
     "execution_count": 195,
     "metadata": {},
     "output_type": "execute_result"
    }
   ],
   "source": [
    "conn_str = 'postgresql://{user}:{password}@{host}:{port}/{database}'\n",
    "engine = create_engine(conn_str.format(**db_params))\n",
    "\n",
    "engine.table_names()"
   ]
  },
  {
   "cell_type": "markdown",
   "metadata": {},
   "source": [
    "## Data Generation Status\n",
    "\n",
    "Currently automating creation of:\n",
    "\n",
    "* ✅ author\n",
    "* ✅ book\n",
    "* ✅ cardholder \n",
    "* ✅ customer \n",
    "* ✅ household \n",
    "* ✅ paymentmethod \n",
    "* ❌ phonenumber\n",
    "* ❌ publisher\n",
    "* ✅ purchase \n",
    "* ✅ purchaseditem \n",
    "* ❌ residentialaddress\n",
    "* ❌ shipment\n",
    "* ✅ writtenby \n"
   ]
  },
  {
   "cell_type": "markdown",
   "metadata": {},
   "source": [
    "## Create Schema"
   ]
  },
  {
   "cell_type": "code",
   "execution_count": 11,
   "metadata": {},
   "outputs": [
    {
     "data": {
      "text/plain": [
       "<sqlalchemy.engine.result.ResultProxy at 0x11ce88050>"
      ]
     },
     "execution_count": 11,
     "metadata": {},
     "output_type": "execute_result"
    }
   ],
   "source": [
    "# This doesn't work for whatever reason.\n",
    "# Can just run in pgAdmin or Hasura.\n",
    "\n",
    "with open('../SQL/DDL.sql') as f:\n",
    "    schema = f.read()\n",
    "    \n",
    "engine.execute(text(schema))"
   ]
  },
  {
   "cell_type": "markdown",
   "metadata": {},
   "source": [
    "## Inserting Book Data"
   ]
  },
  {
   "cell_type": "code",
   "execution_count": 12,
   "metadata": {},
   "outputs": [
    {
     "data": {
      "text/html": [
       "<div>\n",
       "<style scoped>\n",
       "    .dataframe tbody tr th:only-of-type {\n",
       "        vertical-align: middle;\n",
       "    }\n",
       "\n",
       "    .dataframe tbody tr th {\n",
       "        vertical-align: top;\n",
       "    }\n",
       "\n",
       "    .dataframe thead th {\n",
       "        text-align: right;\n",
       "    }\n",
       "</style>\n",
       "<table border=\"1\" class=\"dataframe\">\n",
       "  <thead>\n",
       "    <tr style=\"text-align: right;\">\n",
       "      <th></th>\n",
       "      <th>asin</th>\n",
       "      <th>coverURL</th>\n",
       "      <th>title</th>\n",
       "      <th>author</th>\n",
       "      <th>category</th>\n",
       "      <th>publisherID</th>\n",
       "      <th>pages</th>\n",
       "      <th>price</th>\n",
       "      <th>inventory</th>\n",
       "    </tr>\n",
       "  </thead>\n",
       "  <tbody>\n",
       "    <tr>\n",
       "      <th>0</th>\n",
       "      <td>761183272</td>\n",
       "      <td>http://ecx.images-amazon.com/images/I/61Y5cOdH...</td>\n",
       "      <td>Mom's Family Wall Calendar 2016</td>\n",
       "      <td>Sandra Boynton</td>\n",
       "      <td>Calendars</td>\n",
       "      <td>NaN</td>\n",
       "      <td>586</td>\n",
       "      <td>39.09</td>\n",
       "      <td>38</td>\n",
       "    </tr>\n",
       "    <tr>\n",
       "      <th>1</th>\n",
       "      <td>1623439671</td>\n",
       "      <td>http://ecx.images-amazon.com/images/I/61t-hrSw...</td>\n",
       "      <td>Doug the Pug 2016 Wall Calendar</td>\n",
       "      <td>Doug the Pug</td>\n",
       "      <td>Calendars</td>\n",
       "      <td>NaN</td>\n",
       "      <td>365</td>\n",
       "      <td>11.97</td>\n",
       "      <td>36</td>\n",
       "    </tr>\n",
       "    <tr>\n",
       "      <th>2</th>\n",
       "      <td>B00O80WC6I</td>\n",
       "      <td>http://ecx.images-amazon.com/images/I/41X-KQqs...</td>\n",
       "      <td>Moleskine 2016 Weekly Notebook, 12M, Large, Bl...</td>\n",
       "      <td>Moleskine</td>\n",
       "      <td>Calendars</td>\n",
       "      <td>NaN</td>\n",
       "      <td>112</td>\n",
       "      <td>23.93</td>\n",
       "      <td>79</td>\n",
       "    </tr>\n",
       "    <tr>\n",
       "      <th>3</th>\n",
       "      <td>761182187</td>\n",
       "      <td>http://ecx.images-amazon.com/images/I/61j-4gxJ...</td>\n",
       "      <td>365 Cats Color Page-A-Day Calendar 2016</td>\n",
       "      <td>Workman Publishing</td>\n",
       "      <td>Calendars</td>\n",
       "      <td>NaN</td>\n",
       "      <td>278</td>\n",
       "      <td>6.38</td>\n",
       "      <td>43</td>\n",
       "    </tr>\n",
       "    <tr>\n",
       "      <th>4</th>\n",
       "      <td>1578052084</td>\n",
       "      <td>http://ecx.images-amazon.com/images/I/51Ry4Tsq...</td>\n",
       "      <td>Sierra Club Engagement Calendar 2016</td>\n",
       "      <td>Sierra Club</td>\n",
       "      <td>Calendars</td>\n",
       "      <td>NaN</td>\n",
       "      <td>901</td>\n",
       "      <td>29.52</td>\n",
       "      <td>68</td>\n",
       "    </tr>\n",
       "  </tbody>\n",
       "</table>\n",
       "</div>"
      ],
      "text/plain": [
       "         asin                                           coverURL  \\\n",
       "0   761183272  http://ecx.images-amazon.com/images/I/61Y5cOdH...   \n",
       "1  1623439671  http://ecx.images-amazon.com/images/I/61t-hrSw...   \n",
       "2  B00O80WC6I  http://ecx.images-amazon.com/images/I/41X-KQqs...   \n",
       "3   761182187  http://ecx.images-amazon.com/images/I/61j-4gxJ...   \n",
       "4  1578052084  http://ecx.images-amazon.com/images/I/51Ry4Tsq...   \n",
       "\n",
       "                                               title              author  \\\n",
       "0                    Mom's Family Wall Calendar 2016      Sandra Boynton   \n",
       "1                    Doug the Pug 2016 Wall Calendar        Doug the Pug   \n",
       "2  Moleskine 2016 Weekly Notebook, 12M, Large, Bl...           Moleskine   \n",
       "3            365 Cats Color Page-A-Day Calendar 2016  Workman Publishing   \n",
       "4               Sierra Club Engagement Calendar 2016         Sierra Club   \n",
       "\n",
       "    category  publisherID  pages  price  inventory  \n",
       "0  Calendars          NaN    586  39.09         38  \n",
       "1  Calendars          NaN    365  11.97         36  \n",
       "2  Calendars          NaN    112  23.93         79  \n",
       "3  Calendars          NaN    278   6.38         43  \n",
       "4  Calendars          NaN    901  29.52         68  "
      ]
     },
     "execution_count": 12,
     "metadata": {},
     "output_type": "execute_result"
    }
   ],
   "source": [
    "df = pd.read_csv('./amazon_books.csv') \\\n",
    "        .drop(columns=['filename', 'category_id']) \\\n",
    "        .rename(columns={\n",
    "            'ASIN': 'asin',\n",
    "            'image_url': 'coverURL'\n",
    "        })\n",
    "\n",
    "random_field = lambda low, high: np.random.randint(low, high, (len(df),))\n",
    "df = df.assign(\n",
    "    asin=lambda df: df.asin.apply(lambda asin: asin[:10]),\n",
    "    publisherID=np.nan,\n",
    "    pages=random_field(100, 1000),\n",
    "    price=(np.random.rand() * random_field(2,50)).round(2),\n",
    "    inventory=random_field(12, 100)\n",
    ")\n",
    "\n",
    "dump = df.drop(columns=\"author\")\n",
    "dump.head()\n",
    "\n",
    "df.head()"
   ]
  },
  {
   "cell_type": "code",
   "execution_count": 13,
   "metadata": {},
   "outputs": [],
   "source": [
    "# https://stackoverflow.com/a/55495065/6766123\n",
    "def psql_insert_copy(table, conn, keys, data_iter):\n",
    "    # gets a DBAPI connection that can provide a cursor\n",
    "    data_iter = tqdm(data_iter)\n",
    "    dbapi_conn = conn.connection\n",
    "    \n",
    "    with dbapi_conn.cursor() as cur:\n",
    "        s_buf = io.StringIO()\n",
    "        writer = csv.writer(s_buf)\n",
    "        writer.writerows(data_iter)\n",
    "        s_buf.seek(0)\n",
    "\n",
    "        columns = ', '.join('\"{}\"'.format(k) for k in keys)\n",
    "        if table.schema:\n",
    "            table_name = '{}.{}'.format(table.schema, table.name)\n",
    "        else:\n",
    "            table_name = table.name\n",
    "\n",
    "        sql = 'COPY {} ({}) FROM STDIN WITH CSV'.format(table_name, columns)\n",
    "        cur.copy_expert(sql=sql, file=s_buf)"
   ]
  },
  {
   "cell_type": "code",
   "execution_count": 15,
   "metadata": {},
   "outputs": [
    {
     "data": {
      "application/vnd.jupyter.widget-view+json": {
       "model_id": "100e86cc88d840e2844f3cf27f33759f",
       "version_major": 2,
       "version_minor": 0
      },
      "text/plain": [
       "HBox(children=(FloatProgress(value=1.0, bar_style='info', max=1.0), HTML(value='')))"
      ]
     },
     "metadata": {},
     "output_type": "display_data"
    },
    {
     "name": "stdout",
     "output_type": "stream",
     "text": [
      "\n"
     ]
    }
   ],
   "source": [
    "dump.columns = [c.lower() for c in dump.columns]\n",
    "dump.to_sql('book', engine, schema=\"final\", if_exists=\"append\", index=False, method=psql_insert_copy)"
   ]
  },
  {
   "cell_type": "markdown",
   "metadata": {},
   "source": [
    "## Inserting Author Data"
   ]
  },
  {
   "cell_type": "code",
   "execution_count": null,
   "metadata": {},
   "outputs": [],
   "source": [
    "# delete all rows; can't use replace because of dependencies\n",
    "engine.execute('truncate final.\"author\";') \n",
    "\n",
    "seq_key = engine.execute(\"\"\"SELECT pg_get_serial_sequence('final.\"author\"', 'authorid');\"\"\").fetchall()[0][0]\n",
    "reset_pk = \"ALTER SEQUENCE {} RESTART WITH 1\".format(seq_key)\n",
    "engine.execute(reset_pk)"
   ]
  },
  {
   "cell_type": "code",
   "execution_count": 17,
   "metadata": {},
   "outputs": [
    {
     "data": {
      "application/vnd.jupyter.widget-view+json": {
       "model_id": "5605adedb1484c5980bbea7d42ba1478",
       "version_major": 2,
       "version_minor": 0
      },
      "text/plain": [
       "HBox(children=(FloatProgress(value=1.0, bar_style='info', max=1.0), HTML(value='')))"
      ]
     },
     "metadata": {},
     "output_type": "display_data"
    },
    {
     "name": "stdout",
     "output_type": "stream",
     "text": [
      "\n"
     ]
    }
   ],
   "source": [
    "author_dump = df[['author', 'asin']].rename(columns={'author': 'fullname'}).dropna()\n",
    "author_dump[['fullname']] \\\n",
    "    .drop_duplicates(subset='fullname') \\\n",
    "    .to_sql('author', engine, schema=\"final\", if_exists=\"append\", index=False, method=psql_insert_copy)"
   ]
  },
  {
   "cell_type": "code",
   "execution_count": 19,
   "metadata": {},
   "outputs": [
    {
     "data": {
      "text/plain": [
       "[(117374,)]"
      ]
     },
     "execution_count": 19,
     "metadata": {},
     "output_type": "execute_result"
    }
   ],
   "source": [
    "engine.execute('SELECT COUNT(*) FROM final.\"author\"').fetchall()"
   ]
  },
  {
   "cell_type": "code",
   "execution_count": 20,
   "metadata": {},
   "outputs": [
    {
     "data": {
      "text/html": [
       "<div>\n",
       "<style scoped>\n",
       "    .dataframe tbody tr th:only-of-type {\n",
       "        vertical-align: middle;\n",
       "    }\n",
       "\n",
       "    .dataframe tbody tr th {\n",
       "        vertical-align: top;\n",
       "    }\n",
       "\n",
       "    .dataframe thead th {\n",
       "        text-align: right;\n",
       "    }\n",
       "</style>\n",
       "<table border=\"1\" class=\"dataframe\">\n",
       "  <thead>\n",
       "    <tr style=\"text-align: right;\">\n",
       "      <th></th>\n",
       "      <th>authorid</th>\n",
       "      <th>fullname</th>\n",
       "    </tr>\n",
       "  </thead>\n",
       "  <tbody>\n",
       "    <tr>\n",
       "      <th>0</th>\n",
       "      <td>1</td>\n",
       "      <td>Sandra Boynton</td>\n",
       "    </tr>\n",
       "    <tr>\n",
       "      <th>1</th>\n",
       "      <td>2</td>\n",
       "      <td>Doug the Pug</td>\n",
       "    </tr>\n",
       "    <tr>\n",
       "      <th>2</th>\n",
       "      <td>3</td>\n",
       "      <td>Moleskine</td>\n",
       "    </tr>\n",
       "    <tr>\n",
       "      <th>3</th>\n",
       "      <td>4</td>\n",
       "      <td>Workman Publishing</td>\n",
       "    </tr>\n",
       "    <tr>\n",
       "      <th>4</th>\n",
       "      <td>5</td>\n",
       "      <td>Sierra Club</td>\n",
       "    </tr>\n",
       "  </tbody>\n",
       "</table>\n",
       "</div>"
      ],
      "text/plain": [
       "   authorid            fullname\n",
       "0         1      Sandra Boynton\n",
       "1         2        Doug the Pug\n",
       "2         3           Moleskine\n",
       "3         4  Workman Publishing\n",
       "4         5         Sierra Club"
      ]
     },
     "execution_count": 20,
     "metadata": {},
     "output_type": "execute_result"
    }
   ],
   "source": [
    "query = engine.execute('SELECT * FROM final.\"author\"')\n",
    "author_ids = pd.DataFrame(query.fetchall(), columns=['authorid', 'fullname'])\n",
    "\n",
    "author_ids.head()"
   ]
  },
  {
   "cell_type": "code",
   "execution_count": 21,
   "metadata": {},
   "outputs": [
    {
     "name": "stdout",
     "output_type": "stream",
     "text": [
      "(193159, 3)\n"
     ]
    },
    {
     "data": {
      "text/html": [
       "<div>\n",
       "<style scoped>\n",
       "    .dataframe tbody tr th:only-of-type {\n",
       "        vertical-align: middle;\n",
       "    }\n",
       "\n",
       "    .dataframe tbody tr th {\n",
       "        vertical-align: top;\n",
       "    }\n",
       "\n",
       "    .dataframe thead th {\n",
       "        text-align: right;\n",
       "    }\n",
       "</style>\n",
       "<table border=\"1\" class=\"dataframe\">\n",
       "  <thead>\n",
       "    <tr style=\"text-align: right;\">\n",
       "      <th></th>\n",
       "      <th>fullname</th>\n",
       "      <th>asin</th>\n",
       "      <th>authorid</th>\n",
       "    </tr>\n",
       "  </thead>\n",
       "  <tbody>\n",
       "    <tr>\n",
       "      <th>0</th>\n",
       "      <td>Sandra Boynton</td>\n",
       "      <td>761183272</td>\n",
       "      <td>1</td>\n",
       "    </tr>\n",
       "    <tr>\n",
       "      <th>1</th>\n",
       "      <td>Sandra Boynton</td>\n",
       "      <td>761177817</td>\n",
       "      <td>1</td>\n",
       "    </tr>\n",
       "    <tr>\n",
       "      <th>2</th>\n",
       "      <td>Sandra Boynton</td>\n",
       "      <td>761185631</td>\n",
       "      <td>1</td>\n",
       "    </tr>\n",
       "    <tr>\n",
       "      <th>3</th>\n",
       "      <td>Sandra Boynton</td>\n",
       "      <td>761137998</td>\n",
       "      <td>1</td>\n",
       "    </tr>\n",
       "    <tr>\n",
       "      <th>4</th>\n",
       "      <td>Sandra Boynton</td>\n",
       "      <td>894801996</td>\n",
       "      <td>1</td>\n",
       "    </tr>\n",
       "  </tbody>\n",
       "</table>\n",
       "</div>"
      ],
      "text/plain": [
       "         fullname       asin  authorid\n",
       "0  Sandra Boynton  761183272         1\n",
       "1  Sandra Boynton  761177817         1\n",
       "2  Sandra Boynton  761185631         1\n",
       "3  Sandra Boynton  761137998         1\n",
       "4  Sandra Boynton  894801996         1"
      ]
     },
     "execution_count": 21,
     "metadata": {},
     "output_type": "execute_result"
    }
   ],
   "source": [
    "writtenby = pd.merge(author_dump, author_ids, on='fullname')\n",
    "\n",
    "print(writtenby.shape)\n",
    "writtenby.head()"
   ]
  },
  {
   "cell_type": "code",
   "execution_count": 22,
   "metadata": {},
   "outputs": [
    {
     "data": {
      "application/vnd.jupyter.widget-view+json": {
       "model_id": "202a4002a3e94180b8127f1676b62add",
       "version_major": 2,
       "version_minor": 0
      },
      "text/plain": [
       "HBox(children=(FloatProgress(value=1.0, bar_style='info', max=1.0), HTML(value='')))"
      ]
     },
     "metadata": {},
     "output_type": "display_data"
    },
    {
     "name": "stdout",
     "output_type": "stream",
     "text": [
      "\n"
     ]
    }
   ],
   "source": [
    "writtenby.drop(columns='fullname') \\\n",
    "        .to_sql('writtenby', engine, schema=\"final\", if_exists=\"replace\", index=False, method=psql_insert_copy)"
   ]
  },
  {
   "cell_type": "markdown",
   "metadata": {},
   "source": [
    "## Inserting Users"
   ]
  },
  {
   "cell_type": "code",
   "execution_count": 49,
   "metadata": {},
   "outputs": [],
   "source": [
    "def random_uuids(n):\n",
    "    return (str(uuid.uuid4()) for _ in range(n))"
   ]
  },
  {
   "cell_type": "code",
   "execution_count": 97,
   "metadata": {},
   "outputs": [
    {
     "data": {
      "text/html": [
       "<div>\n",
       "<style scoped>\n",
       "    .dataframe tbody tr th:only-of-type {\n",
       "        vertical-align: middle;\n",
       "    }\n",
       "\n",
       "    .dataframe tbody tr th {\n",
       "        vertical-align: top;\n",
       "    }\n",
       "\n",
       "    .dataframe thead th {\n",
       "        text-align: right;\n",
       "    }\n",
       "</style>\n",
       "<table border=\"1\" class=\"dataframe\">\n",
       "  <thead>\n",
       "    <tr style=\"text-align: right;\">\n",
       "      <th></th>\n",
       "      <th>userid</th>\n",
       "    </tr>\n",
       "  </thead>\n",
       "  <tbody>\n",
       "    <tr>\n",
       "      <th>0</th>\n",
       "      <td>2efd3928-b2de-4967-89f9-388307a90fb5</td>\n",
       "    </tr>\n",
       "    <tr>\n",
       "      <th>1</th>\n",
       "      <td>15246d67-79e5-4a86-856b-21a11010a4d9</td>\n",
       "    </tr>\n",
       "    <tr>\n",
       "      <th>2</th>\n",
       "      <td>24ef752e-ef38-4756-8af1-763fa6bc181e</td>\n",
       "    </tr>\n",
       "    <tr>\n",
       "      <th>3</th>\n",
       "      <td>d4de2b55-4ea3-44c8-a093-7a3c1009ddc9</td>\n",
       "    </tr>\n",
       "    <tr>\n",
       "      <th>4</th>\n",
       "      <td>eb019055-5dec-45ce-858f-dc4914ad9c90</td>\n",
       "    </tr>\n",
       "  </tbody>\n",
       "</table>\n",
       "</div>"
      ],
      "text/plain": [
       "                                 userid\n",
       "0  2efd3928-b2de-4967-89f9-388307a90fb5\n",
       "1  15246d67-79e5-4a86-856b-21a11010a4d9\n",
       "2  24ef752e-ef38-4756-8af1-763fa6bc181e\n",
       "3  d4de2b55-4ea3-44c8-a093-7a3c1009ddc9\n",
       "4  eb019055-5dec-45ce-858f-dc4914ad9c90"
      ]
     },
     "execution_count": 97,
     "metadata": {},
     "output_type": "execute_result"
    }
   ],
   "source": [
    "import uuid\n",
    "\n",
    "NUM_USERS = 1_000\n",
    "\n",
    "users = pd.DataFrame([{'userid': uuid} for uuid in random_uuids(NUM_USERS)])\n",
    "users.head()"
   ]
  },
  {
   "cell_type": "code",
   "execution_count": 98,
   "metadata": {},
   "outputs": [
    {
     "data": {
      "application/vnd.jupyter.widget-view+json": {
       "model_id": "06461c7b827d44a4818e4b26d85bea0f",
       "version_major": 2,
       "version_minor": 0
      },
      "text/plain": [
       "HBox(children=(FloatProgress(value=1.0, bar_style='info', max=1.0), HTML(value='')))"
      ]
     },
     "metadata": {},
     "output_type": "display_data"
    },
    {
     "name": "stdout",
     "output_type": "stream",
     "text": [
      "\n"
     ]
    }
   ],
   "source": [
    "users.to_sql('customer', engine, schema=\"final\", if_exists=\"append\", index=False, method=psql_insert_copy)"
   ]
  },
  {
   "cell_type": "markdown",
   "metadata": {},
   "source": [
    "## Inserting Credit Cards"
   ]
  },
  {
   "cell_type": "code",
   "execution_count": 160,
   "metadata": {},
   "outputs": [],
   "source": [
    "from faker import Faker\n",
    "\n",
    "fake = Faker()\n",
    "Faker.seed(0)\n",
    "\n",
    "def random_credit_cards(n):\n",
    "    for _ in range(n):\n",
    "        yield {\n",
    "            'cardnumber': fake.credit_card_number(card_type='visa'),\n",
    "            'cvv': fake.credit_card_security_code(card_type='visa'),\n",
    "            'expirationdate': fake.credit_card_expire(end='+5y', date_format='20%y-%m-01')\n",
    "        }"
   ]
  },
  {
   "cell_type": "code",
   "execution_count": 161,
   "metadata": {},
   "outputs": [
    {
     "name": "stdout",
     "output_type": "stream",
     "text": [
      "(1750, 4)\n"
     ]
    },
    {
     "data": {
      "text/html": [
       "<div>\n",
       "<style scoped>\n",
       "    .dataframe tbody tr th:only-of-type {\n",
       "        vertical-align: middle;\n",
       "    }\n",
       "\n",
       "    .dataframe tbody tr th {\n",
       "        vertical-align: top;\n",
       "    }\n",
       "\n",
       "    .dataframe thead th {\n",
       "        text-align: right;\n",
       "    }\n",
       "</style>\n",
       "<table border=\"1\" class=\"dataframe\">\n",
       "  <thead>\n",
       "    <tr style=\"text-align: right;\">\n",
       "      <th></th>\n",
       "      <th>userid</th>\n",
       "      <th>cardnumber</th>\n",
       "      <th>cvv</th>\n",
       "      <th>expirationdate</th>\n",
       "    </tr>\n",
       "  </thead>\n",
       "  <tbody>\n",
       "    <tr>\n",
       "      <th>0</th>\n",
       "      <td>36197d06-b097-498f-88f7-071fb4a85a94</td>\n",
       "      <td>4604876475938242</td>\n",
       "      <td>219</td>\n",
       "      <td>2022-06-01</td>\n",
       "    </tr>\n",
       "    <tr>\n",
       "      <th>1</th>\n",
       "      <td>d37b1d38-7798-4f15-bc9a-872d97ff935a</td>\n",
       "      <td>4892411578156590</td>\n",
       "      <td>387</td>\n",
       "      <td>2024-01-01</td>\n",
       "    </tr>\n",
       "    <tr>\n",
       "      <th>2</th>\n",
       "      <td>bbf13de6-a76b-4d6d-b8d1-0db788c4d936</td>\n",
       "      <td>4408016097535138</td>\n",
       "      <td>933</td>\n",
       "      <td>2021-07-01</td>\n",
       "    </tr>\n",
       "    <tr>\n",
       "      <th>3</th>\n",
       "      <td>edb8ef92-5f75-4184-8877-81dc6dca60b6</td>\n",
       "      <td>4711587148418583</td>\n",
       "      <td>398</td>\n",
       "      <td>2025-04-01</td>\n",
       "    </tr>\n",
       "    <tr>\n",
       "      <th>4</th>\n",
       "      <td>3814b635-8886-43e6-8cb8-2b4d31cfee82</td>\n",
       "      <td>4196593423209477</td>\n",
       "      <td>112</td>\n",
       "      <td>2021-07-01</td>\n",
       "    </tr>\n",
       "  </tbody>\n",
       "</table>\n",
       "</div>"
      ],
      "text/plain": [
       "                                 userid        cardnumber  cvv expirationdate\n",
       "0  36197d06-b097-498f-88f7-071fb4a85a94  4604876475938242  219     2022-06-01\n",
       "1  d37b1d38-7798-4f15-bc9a-872d97ff935a  4892411578156590  387     2024-01-01\n",
       "2  bbf13de6-a76b-4d6d-b8d1-0db788c4d936  4408016097535138  933     2021-07-01\n",
       "3  edb8ef92-5f75-4184-8877-81dc6dca60b6  4711587148418583  398     2025-04-01\n",
       "4  3814b635-8886-43e6-8cb8-2b4d31cfee82  4196593423209477  112     2021-07-01"
      ]
     },
     "execution_count": 161,
     "metadata": {},
     "output_type": "execute_result"
    }
   ],
   "source": [
    "NUM_CARDS = int(NUM_USERS*1.75)\n",
    "\n",
    "random_cardholders = users.sample(NUM_CARDS, replace=True).values.squeeze()\n",
    "random_cc_iter = zip(random_cardholders, random_credit_cards(NUM_CARDS))\n",
    "\n",
    "cc_users = pd.DataFrame([{'userid': uid, **cc} for (uid, cc) in random_cc_iter])\n",
    "\n",
    "print(cc_users.shape)\n",
    "cc_users.head()"
   ]
  },
  {
   "cell_type": "code",
   "execution_count": 162,
   "metadata": {},
   "outputs": [
    {
     "data": {
      "application/vnd.jupyter.widget-view+json": {
       "model_id": "e8a2cdd851d9414695dfc21d67ccc891",
       "version_major": 2,
       "version_minor": 0
      },
      "text/plain": [
       "HBox(children=(FloatProgress(value=1.0, bar_style='info', max=1.0), HTML(value='')))"
      ]
     },
     "metadata": {},
     "output_type": "display_data"
    },
    {
     "name": "stdout",
     "output_type": "stream",
     "text": [
      "\n"
     ]
    }
   ],
   "source": [
    "payment_method = cc_users.drop(columns='userid')\n",
    "payment_method.to_sql('paymentmethod', engine, schema=\"final\", if_exists=\"append\", index=False, method=psql_insert_copy)"
   ]
  },
  {
   "cell_type": "code",
   "execution_count": 163,
   "metadata": {},
   "outputs": [
    {
     "data": {
      "application/vnd.jupyter.widget-view+json": {
       "model_id": "a46d28f1a1c248ab87fe18e19ad414a0",
       "version_major": 2,
       "version_minor": 0
      },
      "text/plain": [
       "HBox(children=(FloatProgress(value=1.0, bar_style='info', max=1.0), HTML(value='')))"
      ]
     },
     "metadata": {},
     "output_type": "display_data"
    },
    {
     "name": "stdout",
     "output_type": "stream",
     "text": [
      "\n"
     ]
    }
   ],
   "source": [
    "cardholders = cc_users[['userid', 'cardnumber']]\n",
    "cardholders.to_sql('cardholder', engine, schema=\"final\", if_exists=\"append\", index=False, method=psql_insert_copy)"
   ]
  },
  {
   "cell_type": "markdown",
   "metadata": {},
   "source": [
    "## Simulating Purchases"
   ]
  },
  {
   "cell_type": "code",
   "execution_count": 46,
   "metadata": {},
   "outputs": [],
   "source": [
    "from datetime import datetime\n",
    "\n",
    "# https://stackoverflow.com/a/57722873/6766123\n",
    "\n",
    "def random_dates(first_date, second_date, n):\n",
    "    d1 = datetime.strptime(first_date, \"%m/%d/%Y %I:%M %p\")\n",
    "    d2 = datetime.strptime(second_date, \"%m/%d/%Y %I:%M %p\")\n",
    "    \n",
    "    first_timestamp = int(d1.timestamp())\n",
    "    second_timestamp = int(d2.timestamp())\n",
    "    random_timestamps = np.random.randint(first_timestamp, second_timestamp, (n,))\n",
    "    \n",
    "    return pd.Series(random_timestamps).apply(datetime.fromtimestamp)"
   ]
  },
  {
   "cell_type": "code",
   "execution_count": 204,
   "metadata": {},
   "outputs": [
    {
     "name": "stdout",
     "output_type": "stream",
     "text": [
      "(2316, 4)\n"
     ]
    },
    {
     "data": {
      "text/html": [
       "<div>\n",
       "<style scoped>\n",
       "    .dataframe tbody tr th:only-of-type {\n",
       "        vertical-align: middle;\n",
       "    }\n",
       "\n",
       "    .dataframe tbody tr th {\n",
       "        vertical-align: top;\n",
       "    }\n",
       "\n",
       "    .dataframe thead th {\n",
       "        text-align: right;\n",
       "    }\n",
       "</style>\n",
       "<table border=\"1\" class=\"dataframe\">\n",
       "  <thead>\n",
       "    <tr style=\"text-align: right;\">\n",
       "      <th></th>\n",
       "      <th>userid</th>\n",
       "      <th>cardnumber</th>\n",
       "      <th>orderid</th>\n",
       "      <th>ordertime</th>\n",
       "    </tr>\n",
       "  </thead>\n",
       "  <tbody>\n",
       "    <tr>\n",
       "      <th>1418</th>\n",
       "      <td>d6fea319-9a92-43a2-9344-4697737e6bbf</td>\n",
       "      <td>4173804173275064</td>\n",
       "      <td>a61146e4-d3ed-4071-8bdf-0a6450d7e220</td>\n",
       "      <td>2019-08-23 19:07:24</td>\n",
       "    </tr>\n",
       "    <tr>\n",
       "      <th>366</th>\n",
       "      <td>a595c458-6b4f-493b-bc03-6d299c45acb1</td>\n",
       "      <td>4768583004962337</td>\n",
       "      <td>dd9d2e12-2b7f-4701-a24d-ac69aa400f74</td>\n",
       "      <td>2018-12-26 06:50:37</td>\n",
       "    </tr>\n",
       "    <tr>\n",
       "      <th>1589</th>\n",
       "      <td>ebd59c60-13e2-468a-b67f-a6d9eedc6d7a</td>\n",
       "      <td>4256199330204440</td>\n",
       "      <td>056df4f4-3384-48e8-817e-ee0482dad787</td>\n",
       "      <td>2019-07-02 12:57:27</td>\n",
       "    </tr>\n",
       "    <tr>\n",
       "      <th>1324</th>\n",
       "      <td>5f0e68e4-d21b-4bd3-bb90-eae5054fe667</td>\n",
       "      <td>4647602581545799</td>\n",
       "      <td>192fb9f6-109b-47e6-8b78-911da9308d3f</td>\n",
       "      <td>2019-11-04 08:19:45</td>\n",
       "    </tr>\n",
       "    <tr>\n",
       "      <th>742</th>\n",
       "      <td>ac662c74-dc38-49e3-bc22-5458d38fbd84</td>\n",
       "      <td>4646387118215394</td>\n",
       "      <td>beac9e30-3c3f-4d2b-8600-6282335ec452</td>\n",
       "      <td>2019-11-06 18:16:06</td>\n",
       "    </tr>\n",
       "  </tbody>\n",
       "</table>\n",
       "</div>"
      ],
      "text/plain": [
       "                                    userid        cardnumber  \\\n",
       "1418  d6fea319-9a92-43a2-9344-4697737e6bbf  4173804173275064   \n",
       "366   a595c458-6b4f-493b-bc03-6d299c45acb1  4768583004962337   \n",
       "1589  ebd59c60-13e2-468a-b67f-a6d9eedc6d7a  4256199330204440   \n",
       "1324  5f0e68e4-d21b-4bd3-bb90-eae5054fe667  4647602581545799   \n",
       "742   ac662c74-dc38-49e3-bc22-5458d38fbd84  4646387118215394   \n",
       "\n",
       "                                   orderid           ordertime  \n",
       "1418  a61146e4-d3ed-4071-8bdf-0a6450d7e220 2019-08-23 19:07:24  \n",
       "366   dd9d2e12-2b7f-4701-a24d-ac69aa400f74 2018-12-26 06:50:37  \n",
       "1589  056df4f4-3384-48e8-817e-ee0482dad787 2019-07-02 12:57:27  \n",
       "1324  192fb9f6-109b-47e6-8b78-911da9308d3f 2019-11-04 08:19:45  \n",
       "742   beac9e30-3c3f-4d2b-8600-6282335ec452 2019-11-06 18:16:06  "
      ]
     },
     "execution_count": 204,
     "metadata": {},
     "output_type": "execute_result"
    }
   ],
   "source": [
    "NUM_PURCHASES = np.random.randint(2000, 3000)\n",
    "NUM_SAMPLED_USERS = np.random.randint(NUM_USERS//3, NUM_USERS//3*2)\n",
    "\n",
    "purchases = cardholders.sample(NUM_SAMPLED_USERS) \\\n",
    "                .sample(NUM_PURCHASES, replace=True) \\\n",
    "                .assign(\n",
    "                    orderid=list(random_uuids(NUM_PURCHASES)),\n",
    "                    ordertime=random_dates(\"1/1/2018 1:30 PM\", \"4/4/2020 4:50 AM\", NUM_PURCHASES)\n",
    "                )\n",
    "\n",
    "assert purchases.userid.isin(cardholders.userid).all()\n",
    "\n",
    "print(purchases.shape)\n",
    "purchases.head()"
   ]
  },
  {
   "cell_type": "code",
   "execution_count": 205,
   "metadata": {},
   "outputs": [
    {
     "data": {
      "text/plain": [
       "array([0.86495488, 0.11705891, 0.0158422 , 0.00214401])"
      ]
     },
     "execution_count": 205,
     "metadata": {},
     "output_type": "execute_result"
    }
   ],
   "source": [
    "# https://stackoverflow.com/a/50425683/6766123\n",
    "def softmax(x, axis=None):\n",
    "    x = x - x.max(axis=axis, keepdims=True)\n",
    "    y = np.exp(x)\n",
    "    return y / y.sum(axis=axis, keepdims=True)\n",
    "\n",
    "MAX_QTY = 4\n",
    "PURCHASE_QUANTITIES = list(range(1,MAX_QTY+1))\n",
    "QTY_WEIGHTS = softmax(-2*np.array(PURCHASE_QUANTITIES))\n",
    "QTY_WEIGHTS"
   ]
  },
  {
   "cell_type": "code",
   "execution_count": 206,
   "metadata": {},
   "outputs": [
    {
     "name": "stdout",
     "output_type": "stream",
     "text": [
      "(10288, 3)\n"
     ]
    },
    {
     "data": {
      "text/html": [
       "<div>\n",
       "<style scoped>\n",
       "    .dataframe tbody tr th:only-of-type {\n",
       "        vertical-align: middle;\n",
       "    }\n",
       "\n",
       "    .dataframe tbody tr th {\n",
       "        vertical-align: top;\n",
       "    }\n",
       "\n",
       "    .dataframe thead th {\n",
       "        text-align: right;\n",
       "    }\n",
       "</style>\n",
       "<table border=\"1\" class=\"dataframe\">\n",
       "  <thead>\n",
       "    <tr style=\"text-align: right;\">\n",
       "      <th></th>\n",
       "      <th>asin</th>\n",
       "      <th>orderid</th>\n",
       "      <th>quantity</th>\n",
       "    </tr>\n",
       "  </thead>\n",
       "  <tbody>\n",
       "    <tr>\n",
       "      <th>69517</th>\n",
       "      <td>538475331</td>\n",
       "      <td>e51ad16c-6a27-4abc-9d42-042185981880</td>\n",
       "      <td>1</td>\n",
       "    </tr>\n",
       "    <tr>\n",
       "      <th>93804</th>\n",
       "      <td>764343343</td>\n",
       "      <td>abd75d36-8444-4bd2-bf8a-8fded912e681</td>\n",
       "      <td>1</td>\n",
       "    </tr>\n",
       "    <tr>\n",
       "      <th>113793</th>\n",
       "      <td>3656352895</td>\n",
       "      <td>51e5fbb2-4fa9-44ef-b7f6-f6106a622c48</td>\n",
       "      <td>1</td>\n",
       "    </tr>\n",
       "    <tr>\n",
       "      <th>93299</th>\n",
       "      <td>226550974</td>\n",
       "      <td>311569a1-c933-4b5d-93e9-fa9c5c774adc</td>\n",
       "      <td>2</td>\n",
       "    </tr>\n",
       "    <tr>\n",
       "      <th>178867</th>\n",
       "      <td>448479672</td>\n",
       "      <td>2332d193-6699-494f-a5c2-3a12125900cd</td>\n",
       "      <td>2</td>\n",
       "    </tr>\n",
       "  </tbody>\n",
       "</table>\n",
       "</div>"
      ],
      "text/plain": [
       "              asin                               orderid  quantity\n",
       "69517    538475331  e51ad16c-6a27-4abc-9d42-042185981880         1\n",
       "93804    764343343  abd75d36-8444-4bd2-bf8a-8fded912e681         1\n",
       "113793  3656352895  51e5fbb2-4fa9-44ef-b7f6-f6106a622c48         1\n",
       "93299    226550974  311569a1-c933-4b5d-93e9-fa9c5c774adc         2\n",
       "178867   448479672  2332d193-6699-494f-a5c2-3a12125900cd         2"
      ]
     },
     "execution_count": 206,
     "metadata": {},
     "output_type": "execute_result"
    }
   ],
   "source": [
    "NUM_PURCHASED_ITEMS = np.random.randint(8000, 12_000)\n",
    "purchased_items = df[['asin']].sample(NUM_PURCHASED_ITEMS, replace=True) \\\n",
    "                            .assign(\n",
    "                                orderid=purchases.orderid.sample(NUM_PURCHASED_ITEMS, replace=True).values,\n",
    "                                quantity=pd.Series(PURCHASE_QUANTITIES) \\\n",
    "                                            .sample(NUM_PURCHASED_ITEMS, \n",
    "                                                    replace=True, \n",
    "                                                    weights=QTY_WEIGHTS) \\\n",
    "                                            .values\n",
    "                            )\n",
    "\n",
    "print(purchased_items.shape)\n",
    "purchased_items.head()"
   ]
  },
  {
   "cell_type": "code",
   "execution_count": 207,
   "metadata": {},
   "outputs": [
    {
     "data": {
      "text/plain": [
       "a1767e6a-6329-4303-8437-fe0b1e58c8f2    15\n",
       "fd92727d-c13d-4ca1-ba01-b97bcfd8bf34    13\n",
       "d2c3df1a-1be4-4a65-8c11-a6273db768ec    13\n",
       "6d5268a7-8867-4433-9293-572926c01e3d    13\n",
       "bdb1593d-4433-4f0d-b5ca-c997511a6440    12\n",
       "                                        ..\n",
       "735c651b-221b-43a2-90c7-756921247929     1\n",
       "742a00d5-4253-4cd5-b01a-07c84a3f6df0     1\n",
       "b675ec11-ec84-467d-a87e-b1225410fb06     1\n",
       "b18c5ef5-b561-41ed-9373-d9618c6ab557     1\n",
       "895ac0d7-a3ef-4549-8a0b-6aa9d9820ba6     1\n",
       "Name: orderid, Length: 2284, dtype: int64"
      ]
     },
     "execution_count": 207,
     "metadata": {},
     "output_type": "execute_result"
    }
   ],
   "source": [
    "purchased_items.orderid.value_counts()"
   ]
  },
  {
   "cell_type": "code",
   "execution_count": 208,
   "metadata": {},
   "outputs": [
    {
     "data": {
      "text/plain": [
       "1    8903\n",
       "2    1201\n",
       "3     166\n",
       "4      18\n",
       "Name: quantity, dtype: int64"
      ]
     },
     "execution_count": 208,
     "metadata": {},
     "output_type": "execute_result"
    }
   ],
   "source": [
    "purchased_items.quantity.value_counts()"
   ]
  },
  {
   "cell_type": "code",
   "execution_count": 209,
   "metadata": {},
   "outputs": [
    {
     "data": {
      "application/vnd.jupyter.widget-view+json": {
       "model_id": "553154b49e744088a5c73b209308b8b8",
       "version_major": 2,
       "version_minor": 0
      },
      "text/plain": [
       "HBox(children=(FloatProgress(value=1.0, bar_style='info', max=1.0), HTML(value='')))"
      ]
     },
     "metadata": {},
     "output_type": "display_data"
    },
    {
     "name": "stdout",
     "output_type": "stream",
     "text": [
      "\n"
     ]
    }
   ],
   "source": [
    "purchases.to_sql('purchase', engine, schema=\"final\", if_exists=\"append\", index=False, method=psql_insert_copy)"
   ]
  },
  {
   "cell_type": "code",
   "execution_count": 210,
   "metadata": {},
   "outputs": [
    {
     "data": {
      "application/vnd.jupyter.widget-view+json": {
       "model_id": "a82e90cbd8f24b4599d54cccbe0e2d54",
       "version_major": 2,
       "version_minor": 0
      },
      "text/plain": [
       "HBox(children=(FloatProgress(value=1.0, bar_style='info', max=1.0), HTML(value='')))"
      ]
     },
     "metadata": {},
     "output_type": "display_data"
    },
    {
     "name": "stdout",
     "output_type": "stream",
     "text": [
      "\n"
     ]
    }
   ],
   "source": [
    "purchased_items.to_sql('purchaseditem', \n",
    "                       engine, \n",
    "                       schema=\"final\", \n",
    "                       if_exists=\"append\", \n",
    "                       index=False, \n",
    "                       method=psql_insert_copy)"
   ]
  },
  {
   "cell_type": "code",
   "execution_count": null,
   "metadata": {},
   "outputs": [],
   "source": []
  }
 ],
 "metadata": {
  "kernelspec": {
   "display_name": "Python 3",
   "language": "python",
   "name": "python3"
  },
  "language_info": {
   "codemirror_mode": {
    "name": "ipython",
    "version": 3
   },
   "file_extension": ".py",
   "mimetype": "text/x-python",
   "name": "python",
   "nbconvert_exporter": "python",
   "pygments_lexer": "ipython3",
   "version": "3.7.6"
  },
  "latex_envs": {
   "LaTeX_envs_menu_present": true,
   "autoclose": true,
   "autocomplete": true,
   "bibliofile": "biblio.bib",
   "cite_by": "apalike",
   "current_citInitial": 1,
   "eqLabelWithNumbers": true,
   "eqNumInitial": 1,
   "hotkeys": {
    "equation": "Ctrl-E",
    "itemize": "Ctrl-I"
   },
   "labels_anchors": false,
   "latex_user_defs": false,
   "report_style_numbering": false,
   "user_envs_cfg": false
  }
 },
 "nbformat": 4,
 "nbformat_minor": 4
}
