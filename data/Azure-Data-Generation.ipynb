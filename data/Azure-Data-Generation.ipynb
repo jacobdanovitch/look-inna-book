{
 "cells": [
  {
   "cell_type": "code",
   "execution_count": 1,
   "metadata": {},
   "outputs": [],
   "source": [
    "import io\n",
    "import csv\n",
    "\n",
    "import psycopg2\n",
    "from getpass import getpass\n",
    "\n",
    "from sqlalchemy import create_engine, text\n",
    "from tqdm.auto import tqdm\n",
    "\n",
    "import pandas as pd\n",
    "import numpy as np"
   ]
  },
  {
   "cell_type": "code",
   "execution_count": 2,
   "metadata": {},
   "outputs": [
    {
     "name": "stdout",
     "output_type": "stream",
     "text": [
      "User: jacobgdt\n",
      "Password: ········\n"
     ]
    }
   ],
   "source": [
    "db_params = dict(user=f\"{input('User: ')}@look-inna-book-postgres-hasura-pg-server\",\n",
    "                 password=getpass('Password: '),\n",
    "                 host=\"look-inna-book-postgres-hasura-pg-server.postgres.database.azure.com\",\n",
    "                 port=\"5432\",\n",
    "                 database=\"look-inna-book\"\n",
    "                )"
   ]
  },
  {
   "cell_type": "code",
   "execution_count": 3,
   "metadata": {},
   "outputs": [
    {
     "data": {
      "text/plain": [
       "['final.\"Book\"',\n",
       " 'PaymentInfo',\n",
       " 'ShippingAddress',\n",
       " 'Order',\n",
       " 'Store',\n",
       " 'authorbook',\n",
       " 'purchaseditem',\n",
       " 'paymentmethod',\n",
       " 'author',\n",
       " 'book',\n",
       " 'shipment',\n",
       " 'cardholder',\n",
       " 'residentialaddress',\n",
       " 'customer',\n",
       " 'household',\n",
       " 'phonenumber',\n",
       " 'purchase',\n",
       " 'Book',\n",
       " 'Offer',\n",
       " 'publisher']"
      ]
     },
     "execution_count": 3,
     "metadata": {},
     "output_type": "execute_result"
    }
   ],
   "source": [
    "conn_str = 'postgresql://{user}:{password}@{host}:{port}/{database}'\n",
    "engine = create_engine(conn_str.format(**db_params))\n",
    "\n",
    "engine.table_names()"
   ]
  },
  {
   "cell_type": "markdown",
   "metadata": {},
   "source": [
    "## Data Generation Status\n",
    "\n",
    "Currently automating creation of:\n",
    "\n",
    "* ✅ author\n",
    "* ✅ book\n",
    "* ✅ cardholder \n",
    "* ✅ customer \n",
    "* ✅ household \n",
    "* ✅ paymentmethod \n",
    "* ❌ phonenumber\n",
    "* ❌ publisher\n",
    "* ✅ purchase \n",
    "* ✅ purchaseditem \n",
    "* ❌ residentialaddress\n",
    "* ❌ shipment\n",
    "* ✅ writtenby \n"
   ]
  },
  {
   "cell_type": "markdown",
   "metadata": {},
   "source": [
    "## Create Schema"
   ]
  },
  {
   "cell_type": "code",
   "execution_count": 4,
   "metadata": {},
   "outputs": [
    {
     "ename": "ProgrammingError",
     "evalue": "(psycopg2.errors.SyntaxError) syntax error at or near \"foreign\"\nLINE 76:   foreign key (cardNumber) references PaymentMethod,\n           ^\n\n[SQL: -- set schema\nCREATE SCHEMA IF NOT EXISTS final;\nSET search_path TO final; \n\nCREATE TABLE IF NOT EXISTS ResidentialAddress(\n  residenceID serial primary key, \n  firstname text,\n  lastname text,\n  street text,\n  city text,\n  province text,\n  country text,\n  postalCode text\n);\n\nCREATE TABLE IF NOT EXISTS Publisher( /* Finished Assumed publisher only has one address..*/\n  publisherID serial primary key,\n  publisherName text,\n  bankingInformation text,\n  residenceID integer,\n\n  foreign key (residenceID) references ResidentialAddress\n);\n\nCREATE TABLE IF NOT EXISTS Book (\n  asin char(10) primary key, -- ASIN are guaranteed to be size 10\n  publisherID integer,\n  title text,\n  coverURL text DEFAULT NULL,\n  category text,\n  subCategory text,\n  pages integer,\n  price numeric(6, 2),\n  inventory integer,\n  percentageTaken numeric(3,2) DEFAULT RANDOM(), /* Todo limit of 100 percent*/\n\n  foreign key (publisherID) references Publisher\n);\n\nCREATE TABLE IF NOT EXISTS Author(\n  authorID serial primary key,\n  fullName text\n);\n\n\nCREATE TABLE IF NOT EXISTS WrittenBy ( /* Allows for many to many relation between authors and books*/\n  authorID integer,\n  asin char(10),\n\n  primary key(authorID, asin),\n\n  foreign key (authorID) references Author,\n  foreign key (asin) references Book\n);\n\n\nCREATE TABLE IF NOT EXISTS Customer (\n  userID text primary key,\n  isAdmin boolean DEFAULT FALSE\n);\n\nCREATE TABLE IF NOT EXISTS PaymentMethod (\n  cardNumber char(16) primary key,\n  cvv char(3),\n  expirationDate date\n);\n\n\nCREATE TABLE IF NOT EXISTS CardHolder ( -- Many to many relation between credit cards and owner\n  userID text,\n  cardNumber char(16),\n\n  primary key(cardNumber, userID),\n\n  foreign key (userID) references Customer\n  foreign key (cardNumber) references PaymentMethod,\n);\n\n\nCREATE TABLE IF NOT EXISTS Purchase (\n    orderID text primary key,\n    userID text,\n    cardNumber char(16),\n\n    orderTime timestamp DEFAULT NOW(),\n\n    foreign key (userID) references Customer\n    foreign key (cardNumber) references PaymentMethod\n);\n\nCREATE TABLE IF NOT EXISTS PurchasedItem ( /* These need to be stored like these in order for the database to be considered normalized... (Ties purchased books to order)*/ \n  orderID text,\n  asin char(10),\n  quantity integer,\n  primary key(orderID, asin),\n  foreign key (orderID) references Purchase\n);\n\nCREATE TABLE IF NOT EXISTS Shipment ( /* These need to be stored like these in order for the database to be considered normalized... (Ties shipment to order)*/ \n    trackingID text primary key,\n    orderID text,\n    residenceID integer, \n    \n\n    foreign key (orderID) references Purchase,\n    foreign key (residenceID) references ResidentialAddress\n);\n\n\nCREATE TABLE IF NOT EXISTS Household ( -- Used for shipping to user? Did it in case...\n  residenceID integer,\n  userID text,\n\n  primary key (residenceID, userID),\n\n  foreign key (residenceID) references ResidentialAddress,\n  foreign key (userID) references Customer\n);\n\n\nCREATE TABLE IF NOT EXISTS PhoneNumber (\n  PhoneNumber text primary key,\n  publisherID integer, -- The publisher owns the phone number\n\n  foreign key (publisherID) references Publisher\n);]\n(Background on this error at: http://sqlalche.me/e/f405)",
     "output_type": "error",
     "traceback": [
      "\u001b[0;31m---------------------------------------------------------------------------\u001b[0m",
      "\u001b[0;31mSyntaxError\u001b[0m                               Traceback (most recent call last)",
      "\u001b[0;32m~/anaconda3/envs/bookapp/lib/python3.7/site-packages/sqlalchemy/engine/base.py\u001b[0m in \u001b[0;36m_execute_context\u001b[0;34m(self, dialect, constructor, statement, parameters, *args)\u001b[0m\n\u001b[1;32m   1247\u001b[0m                     self.dialect.do_execute(\n\u001b[0;32m-> 1248\u001b[0;31m                         \u001b[0mcursor\u001b[0m\u001b[0;34m,\u001b[0m \u001b[0mstatement\u001b[0m\u001b[0;34m,\u001b[0m \u001b[0mparameters\u001b[0m\u001b[0;34m,\u001b[0m \u001b[0mcontext\u001b[0m\u001b[0;34m\u001b[0m\u001b[0;34m\u001b[0m\u001b[0m\n\u001b[0m\u001b[1;32m   1249\u001b[0m                     )\n",
      "\u001b[0;32m~/anaconda3/envs/bookapp/lib/python3.7/site-packages/sqlalchemy/engine/default.py\u001b[0m in \u001b[0;36mdo_execute\u001b[0;34m(self, cursor, statement, parameters, context)\u001b[0m\n\u001b[1;32m    589\u001b[0m     \u001b[0;32mdef\u001b[0m \u001b[0mdo_execute\u001b[0m\u001b[0;34m(\u001b[0m\u001b[0mself\u001b[0m\u001b[0;34m,\u001b[0m \u001b[0mcursor\u001b[0m\u001b[0;34m,\u001b[0m \u001b[0mstatement\u001b[0m\u001b[0;34m,\u001b[0m \u001b[0mparameters\u001b[0m\u001b[0;34m,\u001b[0m \u001b[0mcontext\u001b[0m\u001b[0;34m=\u001b[0m\u001b[0;32mNone\u001b[0m\u001b[0;34m)\u001b[0m\u001b[0;34m:\u001b[0m\u001b[0;34m\u001b[0m\u001b[0;34m\u001b[0m\u001b[0m\n\u001b[0;32m--> 590\u001b[0;31m         \u001b[0mcursor\u001b[0m\u001b[0;34m.\u001b[0m\u001b[0mexecute\u001b[0m\u001b[0;34m(\u001b[0m\u001b[0mstatement\u001b[0m\u001b[0;34m,\u001b[0m \u001b[0mparameters\u001b[0m\u001b[0;34m)\u001b[0m\u001b[0;34m\u001b[0m\u001b[0;34m\u001b[0m\u001b[0m\n\u001b[0m\u001b[1;32m    591\u001b[0m \u001b[0;34m\u001b[0m\u001b[0m\n",
      "\u001b[0;31mSyntaxError\u001b[0m: syntax error at or near \"foreign\"\nLINE 76:   foreign key (cardNumber) references PaymentMethod,\n           ^\n",
      "\nThe above exception was the direct cause of the following exception:\n",
      "\u001b[0;31mProgrammingError\u001b[0m                          Traceback (most recent call last)",
      "\u001b[0;32m<ipython-input-4-6daef9be69bb>\u001b[0m in \u001b[0;36m<module>\u001b[0;34m\u001b[0m\n\u001b[1;32m      5\u001b[0m     \u001b[0mschema\u001b[0m \u001b[0;34m=\u001b[0m \u001b[0mf\u001b[0m\u001b[0;34m.\u001b[0m\u001b[0mread\u001b[0m\u001b[0;34m(\u001b[0m\u001b[0;34m)\u001b[0m\u001b[0;34m\u001b[0m\u001b[0;34m\u001b[0m\u001b[0m\n\u001b[1;32m      6\u001b[0m \u001b[0;34m\u001b[0m\u001b[0m\n\u001b[0;32m----> 7\u001b[0;31m \u001b[0mengine\u001b[0m\u001b[0;34m.\u001b[0m\u001b[0mexecute\u001b[0m\u001b[0;34m(\u001b[0m\u001b[0mtext\u001b[0m\u001b[0;34m(\u001b[0m\u001b[0mschema\u001b[0m\u001b[0;34m)\u001b[0m\u001b[0;34m)\u001b[0m\u001b[0;34m\u001b[0m\u001b[0;34m\u001b[0m\u001b[0m\n\u001b[0m",
      "\u001b[0;32m~/anaconda3/envs/bookapp/lib/python3.7/site-packages/sqlalchemy/engine/base.py\u001b[0m in \u001b[0;36mexecute\u001b[0;34m(self, statement, *multiparams, **params)\u001b[0m\n\u001b[1;32m   2189\u001b[0m \u001b[0;34m\u001b[0m\u001b[0m\n\u001b[1;32m   2190\u001b[0m         \u001b[0mconnection\u001b[0m \u001b[0;34m=\u001b[0m \u001b[0mself\u001b[0m\u001b[0;34m.\u001b[0m\u001b[0m_contextual_connect\u001b[0m\u001b[0;34m(\u001b[0m\u001b[0mclose_with_result\u001b[0m\u001b[0;34m=\u001b[0m\u001b[0;32mTrue\u001b[0m\u001b[0;34m)\u001b[0m\u001b[0;34m\u001b[0m\u001b[0;34m\u001b[0m\u001b[0m\n\u001b[0;32m-> 2191\u001b[0;31m         \u001b[0;32mreturn\u001b[0m \u001b[0mconnection\u001b[0m\u001b[0;34m.\u001b[0m\u001b[0mexecute\u001b[0m\u001b[0;34m(\u001b[0m\u001b[0mstatement\u001b[0m\u001b[0;34m,\u001b[0m \u001b[0;34m*\u001b[0m\u001b[0mmultiparams\u001b[0m\u001b[0;34m,\u001b[0m \u001b[0;34m**\u001b[0m\u001b[0mparams\u001b[0m\u001b[0;34m)\u001b[0m\u001b[0;34m\u001b[0m\u001b[0;34m\u001b[0m\u001b[0m\n\u001b[0m\u001b[1;32m   2192\u001b[0m \u001b[0;34m\u001b[0m\u001b[0m\n\u001b[1;32m   2193\u001b[0m     \u001b[0;32mdef\u001b[0m \u001b[0mscalar\u001b[0m\u001b[0;34m(\u001b[0m\u001b[0mself\u001b[0m\u001b[0;34m,\u001b[0m \u001b[0mstatement\u001b[0m\u001b[0;34m,\u001b[0m \u001b[0;34m*\u001b[0m\u001b[0mmultiparams\u001b[0m\u001b[0;34m,\u001b[0m \u001b[0;34m**\u001b[0m\u001b[0mparams\u001b[0m\u001b[0;34m)\u001b[0m\u001b[0;34m:\u001b[0m\u001b[0;34m\u001b[0m\u001b[0;34m\u001b[0m\u001b[0m\n",
      "\u001b[0;32m~/anaconda3/envs/bookapp/lib/python3.7/site-packages/sqlalchemy/engine/base.py\u001b[0m in \u001b[0;36mexecute\u001b[0;34m(self, object_, *multiparams, **params)\u001b[0m\n\u001b[1;32m    982\u001b[0m             )\n\u001b[1;32m    983\u001b[0m         \u001b[0;32melse\u001b[0m\u001b[0;34m:\u001b[0m\u001b[0;34m\u001b[0m\u001b[0;34m\u001b[0m\u001b[0m\n\u001b[0;32m--> 984\u001b[0;31m             \u001b[0;32mreturn\u001b[0m \u001b[0mmeth\u001b[0m\u001b[0;34m(\u001b[0m\u001b[0mself\u001b[0m\u001b[0;34m,\u001b[0m \u001b[0mmultiparams\u001b[0m\u001b[0;34m,\u001b[0m \u001b[0mparams\u001b[0m\u001b[0;34m)\u001b[0m\u001b[0;34m\u001b[0m\u001b[0;34m\u001b[0m\u001b[0m\n\u001b[0m\u001b[1;32m    985\u001b[0m \u001b[0;34m\u001b[0m\u001b[0m\n\u001b[1;32m    986\u001b[0m     \u001b[0;32mdef\u001b[0m \u001b[0m_execute_function\u001b[0m\u001b[0;34m(\u001b[0m\u001b[0mself\u001b[0m\u001b[0;34m,\u001b[0m \u001b[0mfunc\u001b[0m\u001b[0;34m,\u001b[0m \u001b[0mmultiparams\u001b[0m\u001b[0;34m,\u001b[0m \u001b[0mparams\u001b[0m\u001b[0;34m)\u001b[0m\u001b[0;34m:\u001b[0m\u001b[0;34m\u001b[0m\u001b[0;34m\u001b[0m\u001b[0m\n",
      "\u001b[0;32m~/anaconda3/envs/bookapp/lib/python3.7/site-packages/sqlalchemy/sql/elements.py\u001b[0m in \u001b[0;36m_execute_on_connection\u001b[0;34m(self, connection, multiparams, params)\u001b[0m\n\u001b[1;32m    291\u001b[0m     \u001b[0;32mdef\u001b[0m \u001b[0m_execute_on_connection\u001b[0m\u001b[0;34m(\u001b[0m\u001b[0mself\u001b[0m\u001b[0;34m,\u001b[0m \u001b[0mconnection\u001b[0m\u001b[0;34m,\u001b[0m \u001b[0mmultiparams\u001b[0m\u001b[0;34m,\u001b[0m \u001b[0mparams\u001b[0m\u001b[0;34m)\u001b[0m\u001b[0;34m:\u001b[0m\u001b[0;34m\u001b[0m\u001b[0;34m\u001b[0m\u001b[0m\n\u001b[1;32m    292\u001b[0m         \u001b[0;32mif\u001b[0m \u001b[0mself\u001b[0m\u001b[0;34m.\u001b[0m\u001b[0msupports_execution\u001b[0m\u001b[0;34m:\u001b[0m\u001b[0;34m\u001b[0m\u001b[0;34m\u001b[0m\u001b[0m\n\u001b[0;32m--> 293\u001b[0;31m             \u001b[0;32mreturn\u001b[0m \u001b[0mconnection\u001b[0m\u001b[0;34m.\u001b[0m\u001b[0m_execute_clauseelement\u001b[0m\u001b[0;34m(\u001b[0m\u001b[0mself\u001b[0m\u001b[0;34m,\u001b[0m \u001b[0mmultiparams\u001b[0m\u001b[0;34m,\u001b[0m \u001b[0mparams\u001b[0m\u001b[0;34m)\u001b[0m\u001b[0;34m\u001b[0m\u001b[0;34m\u001b[0m\u001b[0m\n\u001b[0m\u001b[1;32m    294\u001b[0m         \u001b[0;32melse\u001b[0m\u001b[0;34m:\u001b[0m\u001b[0;34m\u001b[0m\u001b[0;34m\u001b[0m\u001b[0m\n\u001b[1;32m    295\u001b[0m             \u001b[0;32mraise\u001b[0m \u001b[0mexc\u001b[0m\u001b[0;34m.\u001b[0m\u001b[0mObjectNotExecutableError\u001b[0m\u001b[0;34m(\u001b[0m\u001b[0mself\u001b[0m\u001b[0;34m)\u001b[0m\u001b[0;34m\u001b[0m\u001b[0;34m\u001b[0m\u001b[0m\n",
      "\u001b[0;32m~/anaconda3/envs/bookapp/lib/python3.7/site-packages/sqlalchemy/engine/base.py\u001b[0m in \u001b[0;36m_execute_clauseelement\u001b[0;34m(self, elem, multiparams, params)\u001b[0m\n\u001b[1;32m   1101\u001b[0m             \u001b[0mdistilled_params\u001b[0m\u001b[0;34m,\u001b[0m\u001b[0;34m\u001b[0m\u001b[0;34m\u001b[0m\u001b[0m\n\u001b[1;32m   1102\u001b[0m             \u001b[0mcompiled_sql\u001b[0m\u001b[0;34m,\u001b[0m\u001b[0;34m\u001b[0m\u001b[0;34m\u001b[0m\u001b[0m\n\u001b[0;32m-> 1103\u001b[0;31m             \u001b[0mdistilled_params\u001b[0m\u001b[0;34m,\u001b[0m\u001b[0;34m\u001b[0m\u001b[0;34m\u001b[0m\u001b[0m\n\u001b[0m\u001b[1;32m   1104\u001b[0m         )\n\u001b[1;32m   1105\u001b[0m         \u001b[0;32mif\u001b[0m \u001b[0mself\u001b[0m\u001b[0;34m.\u001b[0m\u001b[0m_has_events\u001b[0m \u001b[0;32mor\u001b[0m \u001b[0mself\u001b[0m\u001b[0;34m.\u001b[0m\u001b[0mengine\u001b[0m\u001b[0;34m.\u001b[0m\u001b[0m_has_events\u001b[0m\u001b[0;34m:\u001b[0m\u001b[0;34m\u001b[0m\u001b[0;34m\u001b[0m\u001b[0m\n",
      "\u001b[0;32m~/anaconda3/envs/bookapp/lib/python3.7/site-packages/sqlalchemy/engine/base.py\u001b[0m in \u001b[0;36m_execute_context\u001b[0;34m(self, dialect, constructor, statement, parameters, *args)\u001b[0m\n\u001b[1;32m   1286\u001b[0m         \u001b[0;32mexcept\u001b[0m \u001b[0mBaseException\u001b[0m \u001b[0;32mas\u001b[0m \u001b[0me\u001b[0m\u001b[0;34m:\u001b[0m\u001b[0;34m\u001b[0m\u001b[0;34m\u001b[0m\u001b[0m\n\u001b[1;32m   1287\u001b[0m             self._handle_dbapi_exception(\n\u001b[0;32m-> 1288\u001b[0;31m                 \u001b[0me\u001b[0m\u001b[0;34m,\u001b[0m \u001b[0mstatement\u001b[0m\u001b[0;34m,\u001b[0m \u001b[0mparameters\u001b[0m\u001b[0;34m,\u001b[0m \u001b[0mcursor\u001b[0m\u001b[0;34m,\u001b[0m \u001b[0mcontext\u001b[0m\u001b[0;34m\u001b[0m\u001b[0;34m\u001b[0m\u001b[0m\n\u001b[0m\u001b[1;32m   1289\u001b[0m             )\n\u001b[1;32m   1290\u001b[0m \u001b[0;34m\u001b[0m\u001b[0m\n",
      "\u001b[0;32m~/anaconda3/envs/bookapp/lib/python3.7/site-packages/sqlalchemy/engine/base.py\u001b[0m in \u001b[0;36m_handle_dbapi_exception\u001b[0;34m(self, e, statement, parameters, cursor, context)\u001b[0m\n\u001b[1;32m   1480\u001b[0m             \u001b[0;32melif\u001b[0m \u001b[0mshould_wrap\u001b[0m\u001b[0;34m:\u001b[0m\u001b[0;34m\u001b[0m\u001b[0;34m\u001b[0m\u001b[0m\n\u001b[1;32m   1481\u001b[0m                 util.raise_(\n\u001b[0;32m-> 1482\u001b[0;31m                     \u001b[0msqlalchemy_exception\u001b[0m\u001b[0;34m,\u001b[0m \u001b[0mwith_traceback\u001b[0m\u001b[0;34m=\u001b[0m\u001b[0mexc_info\u001b[0m\u001b[0;34m[\u001b[0m\u001b[0;36m2\u001b[0m\u001b[0;34m]\u001b[0m\u001b[0;34m,\u001b[0m \u001b[0mfrom_\u001b[0m\u001b[0;34m=\u001b[0m\u001b[0me\u001b[0m\u001b[0;34m\u001b[0m\u001b[0;34m\u001b[0m\u001b[0m\n\u001b[0m\u001b[1;32m   1483\u001b[0m                 )\n\u001b[1;32m   1484\u001b[0m             \u001b[0;32melse\u001b[0m\u001b[0;34m:\u001b[0m\u001b[0;34m\u001b[0m\u001b[0;34m\u001b[0m\u001b[0m\n",
      "\u001b[0;32m~/anaconda3/envs/bookapp/lib/python3.7/site-packages/sqlalchemy/util/compat.py\u001b[0m in \u001b[0;36mraise_\u001b[0;34m(***failed resolving arguments***)\u001b[0m\n\u001b[1;32m    176\u001b[0m \u001b[0;34m\u001b[0m\u001b[0m\n\u001b[1;32m    177\u001b[0m         \u001b[0;32mtry\u001b[0m\u001b[0;34m:\u001b[0m\u001b[0;34m\u001b[0m\u001b[0;34m\u001b[0m\u001b[0m\n\u001b[0;32m--> 178\u001b[0;31m             \u001b[0;32mraise\u001b[0m \u001b[0mexception\u001b[0m\u001b[0;34m\u001b[0m\u001b[0;34m\u001b[0m\u001b[0m\n\u001b[0m\u001b[1;32m    179\u001b[0m         \u001b[0;32mfinally\u001b[0m\u001b[0;34m:\u001b[0m\u001b[0;34m\u001b[0m\u001b[0;34m\u001b[0m\u001b[0m\n\u001b[1;32m    180\u001b[0m             \u001b[0;31m# credit to\u001b[0m\u001b[0;34m\u001b[0m\u001b[0;34m\u001b[0m\u001b[0;34m\u001b[0m\u001b[0m\n",
      "\u001b[0;32m~/anaconda3/envs/bookapp/lib/python3.7/site-packages/sqlalchemy/engine/base.py\u001b[0m in \u001b[0;36m_execute_context\u001b[0;34m(self, dialect, constructor, statement, parameters, *args)\u001b[0m\n\u001b[1;32m   1246\u001b[0m                 \u001b[0;32mif\u001b[0m \u001b[0;32mnot\u001b[0m \u001b[0mevt_handled\u001b[0m\u001b[0;34m:\u001b[0m\u001b[0;34m\u001b[0m\u001b[0;34m\u001b[0m\u001b[0m\n\u001b[1;32m   1247\u001b[0m                     self.dialect.do_execute(\n\u001b[0;32m-> 1248\u001b[0;31m                         \u001b[0mcursor\u001b[0m\u001b[0;34m,\u001b[0m \u001b[0mstatement\u001b[0m\u001b[0;34m,\u001b[0m \u001b[0mparameters\u001b[0m\u001b[0;34m,\u001b[0m \u001b[0mcontext\u001b[0m\u001b[0;34m\u001b[0m\u001b[0;34m\u001b[0m\u001b[0m\n\u001b[0m\u001b[1;32m   1249\u001b[0m                     )\n\u001b[1;32m   1250\u001b[0m \u001b[0;34m\u001b[0m\u001b[0m\n",
      "\u001b[0;32m~/anaconda3/envs/bookapp/lib/python3.7/site-packages/sqlalchemy/engine/default.py\u001b[0m in \u001b[0;36mdo_execute\u001b[0;34m(self, cursor, statement, parameters, context)\u001b[0m\n\u001b[1;32m    588\u001b[0m \u001b[0;34m\u001b[0m\u001b[0m\n\u001b[1;32m    589\u001b[0m     \u001b[0;32mdef\u001b[0m \u001b[0mdo_execute\u001b[0m\u001b[0;34m(\u001b[0m\u001b[0mself\u001b[0m\u001b[0;34m,\u001b[0m \u001b[0mcursor\u001b[0m\u001b[0;34m,\u001b[0m \u001b[0mstatement\u001b[0m\u001b[0;34m,\u001b[0m \u001b[0mparameters\u001b[0m\u001b[0;34m,\u001b[0m \u001b[0mcontext\u001b[0m\u001b[0;34m=\u001b[0m\u001b[0;32mNone\u001b[0m\u001b[0;34m)\u001b[0m\u001b[0;34m:\u001b[0m\u001b[0;34m\u001b[0m\u001b[0;34m\u001b[0m\u001b[0m\n\u001b[0;32m--> 590\u001b[0;31m         \u001b[0mcursor\u001b[0m\u001b[0;34m.\u001b[0m\u001b[0mexecute\u001b[0m\u001b[0;34m(\u001b[0m\u001b[0mstatement\u001b[0m\u001b[0;34m,\u001b[0m \u001b[0mparameters\u001b[0m\u001b[0;34m)\u001b[0m\u001b[0;34m\u001b[0m\u001b[0;34m\u001b[0m\u001b[0m\n\u001b[0m\u001b[1;32m    591\u001b[0m \u001b[0;34m\u001b[0m\u001b[0m\n\u001b[1;32m    592\u001b[0m     \u001b[0;32mdef\u001b[0m \u001b[0mdo_execute_no_params\u001b[0m\u001b[0;34m(\u001b[0m\u001b[0mself\u001b[0m\u001b[0;34m,\u001b[0m \u001b[0mcursor\u001b[0m\u001b[0;34m,\u001b[0m \u001b[0mstatement\u001b[0m\u001b[0;34m,\u001b[0m \u001b[0mcontext\u001b[0m\u001b[0;34m=\u001b[0m\u001b[0;32mNone\u001b[0m\u001b[0;34m)\u001b[0m\u001b[0;34m:\u001b[0m\u001b[0;34m\u001b[0m\u001b[0;34m\u001b[0m\u001b[0m\n",
      "\u001b[0;31mProgrammingError\u001b[0m: (psycopg2.errors.SyntaxError) syntax error at or near \"foreign\"\nLINE 76:   foreign key (cardNumber) references PaymentMethod,\n           ^\n\n[SQL: -- set schema\nCREATE SCHEMA IF NOT EXISTS final;\nSET search_path TO final; \n\nCREATE TABLE IF NOT EXISTS ResidentialAddress(\n  residenceID serial primary key, \n  firstname text,\n  lastname text,\n  street text,\n  city text,\n  province text,\n  country text,\n  postalCode text\n);\n\nCREATE TABLE IF NOT EXISTS Publisher( /* Finished Assumed publisher only has one address..*/\n  publisherID serial primary key,\n  publisherName text,\n  bankingInformation text,\n  residenceID integer,\n\n  foreign key (residenceID) references ResidentialAddress\n);\n\nCREATE TABLE IF NOT EXISTS Book (\n  asin char(10) primary key, -- ASIN are guaranteed to be size 10\n  publisherID integer,\n  title text,\n  coverURL text DEFAULT NULL,\n  category text,\n  subCategory text,\n  pages integer,\n  price numeric(6, 2),\n  inventory integer,\n  percentageTaken numeric(3,2) DEFAULT RANDOM(), /* Todo limit of 100 percent*/\n\n  foreign key (publisherID) references Publisher\n);\n\nCREATE TABLE IF NOT EXISTS Author(\n  authorID serial primary key,\n  fullName text\n);\n\n\nCREATE TABLE IF NOT EXISTS WrittenBy ( /* Allows for many to many relation between authors and books*/\n  authorID integer,\n  asin char(10),\n\n  primary key(authorID, asin),\n\n  foreign key (authorID) references Author,\n  foreign key (asin) references Book\n);\n\n\nCREATE TABLE IF NOT EXISTS Customer (\n  userID text primary key,\n  isAdmin boolean DEFAULT FALSE\n);\n\nCREATE TABLE IF NOT EXISTS PaymentMethod (\n  cardNumber char(16) primary key,\n  cvv char(3),\n  expirationDate date\n);\n\n\nCREATE TABLE IF NOT EXISTS CardHolder ( -- Many to many relation between credit cards and owner\n  userID text,\n  cardNumber char(16),\n\n  primary key(cardNumber, userID),\n\n  foreign key (userID) references Customer\n  foreign key (cardNumber) references PaymentMethod,\n);\n\n\nCREATE TABLE IF NOT EXISTS Purchase (\n    orderID text primary key,\n    userID text,\n    cardNumber char(16),\n\n    orderTime timestamp DEFAULT NOW(),\n\n    foreign key (userID) references Customer\n    foreign key (cardNumber) references PaymentMethod\n);\n\nCREATE TABLE IF NOT EXISTS PurchasedItem ( /* These need to be stored like these in order for the database to be considered normalized... (Ties purchased books to order)*/ \n  orderID text,\n  asin char(10),\n  quantity integer,\n  primary key(orderID, asin),\n  foreign key (orderID) references Purchase\n);\n\nCREATE TABLE IF NOT EXISTS Shipment ( /* These need to be stored like these in order for the database to be considered normalized... (Ties shipment to order)*/ \n    trackingID text primary key,\n    orderID text,\n    residenceID integer, \n    \n\n    foreign key (orderID) references Purchase,\n    foreign key (residenceID) references ResidentialAddress\n);\n\n\nCREATE TABLE IF NOT EXISTS Household ( -- Used for shipping to user? Did it in case...\n  residenceID integer,\n  userID text,\n\n  primary key (residenceID, userID),\n\n  foreign key (residenceID) references ResidentialAddress,\n  foreign key (userID) references Customer\n);\n\n\nCREATE TABLE IF NOT EXISTS PhoneNumber (\n  PhoneNumber text primary key,\n  publisherID integer, -- The publisher owns the phone number\n\n  foreign key (publisherID) references Publisher\n);]\n(Background on this error at: http://sqlalche.me/e/f405)"
     ]
    }
   ],
   "source": [
    "# This doesn't work for whatever reason.\n",
    "# Can just run in pgAdmin or Hasura.\n",
    "\n",
    "with open('../SQL/DDL.sql') as f:\n",
    "    schema = f.read()\n",
    "    \n",
    "engine.execute(text(schema))"
   ]
  },
  {
   "cell_type": "markdown",
   "metadata": {},
   "source": [
    "## Inserting Book Data"
   ]
  },
  {
   "cell_type": "code",
   "execution_count": 5,
   "metadata": {},
   "outputs": [
    {
     "data": {
      "text/html": [
       "<div>\n",
       "<style scoped>\n",
       "    .dataframe tbody tr th:only-of-type {\n",
       "        vertical-align: middle;\n",
       "    }\n",
       "\n",
       "    .dataframe tbody tr th {\n",
       "        vertical-align: top;\n",
       "    }\n",
       "\n",
       "    .dataframe thead th {\n",
       "        text-align: right;\n",
       "    }\n",
       "</style>\n",
       "<table border=\"1\" class=\"dataframe\">\n",
       "  <thead>\n",
       "    <tr style=\"text-align: right;\">\n",
       "      <th></th>\n",
       "      <th>asin</th>\n",
       "      <th>coverURL</th>\n",
       "      <th>title</th>\n",
       "      <th>author</th>\n",
       "      <th>category</th>\n",
       "      <th>publisherID</th>\n",
       "      <th>pages</th>\n",
       "      <th>price</th>\n",
       "      <th>inventory</th>\n",
       "    </tr>\n",
       "  </thead>\n",
       "  <tbody>\n",
       "    <tr>\n",
       "      <th>0</th>\n",
       "      <td>761183272</td>\n",
       "      <td>http://ecx.images-amazon.com/images/I/61Y5cOdH...</td>\n",
       "      <td>Mom's Family Wall Calendar 2016</td>\n",
       "      <td>Sandra Boynton</td>\n",
       "      <td>Calendars</td>\n",
       "      <td>NaN</td>\n",
       "      <td>298</td>\n",
       "      <td>16.57</td>\n",
       "      <td>44</td>\n",
       "    </tr>\n",
       "    <tr>\n",
       "      <th>1</th>\n",
       "      <td>1623439671</td>\n",
       "      <td>http://ecx.images-amazon.com/images/I/61t-hrSw...</td>\n",
       "      <td>Doug the Pug 2016 Wall Calendar</td>\n",
       "      <td>Doug the Pug</td>\n",
       "      <td>Calendars</td>\n",
       "      <td>NaN</td>\n",
       "      <td>964</td>\n",
       "      <td>1.69</td>\n",
       "      <td>38</td>\n",
       "    </tr>\n",
       "    <tr>\n",
       "      <th>2</th>\n",
       "      <td>B00O80WC6I</td>\n",
       "      <td>http://ecx.images-amazon.com/images/I/41X-KQqs...</td>\n",
       "      <td>Moleskine 2016 Weekly Notebook, 12M, Large, Bl...</td>\n",
       "      <td>Moleskine</td>\n",
       "      <td>Calendars</td>\n",
       "      <td>NaN</td>\n",
       "      <td>564</td>\n",
       "      <td>3.04</td>\n",
       "      <td>54</td>\n",
       "    </tr>\n",
       "    <tr>\n",
       "      <th>3</th>\n",
       "      <td>761182187</td>\n",
       "      <td>http://ecx.images-amazon.com/images/I/61j-4gxJ...</td>\n",
       "      <td>365 Cats Color Page-A-Day Calendar 2016</td>\n",
       "      <td>Workman Publishing</td>\n",
       "      <td>Calendars</td>\n",
       "      <td>NaN</td>\n",
       "      <td>300</td>\n",
       "      <td>13.52</td>\n",
       "      <td>44</td>\n",
       "    </tr>\n",
       "    <tr>\n",
       "      <th>4</th>\n",
       "      <td>1578052084</td>\n",
       "      <td>http://ecx.images-amazon.com/images/I/51Ry4Tsq...</td>\n",
       "      <td>Sierra Club Engagement Calendar 2016</td>\n",
       "      <td>Sierra Club</td>\n",
       "      <td>Calendars</td>\n",
       "      <td>NaN</td>\n",
       "      <td>677</td>\n",
       "      <td>3.04</td>\n",
       "      <td>37</td>\n",
       "    </tr>\n",
       "  </tbody>\n",
       "</table>\n",
       "</div>"
      ],
      "text/plain": [
       "         asin                                           coverURL  \\\n",
       "0   761183272  http://ecx.images-amazon.com/images/I/61Y5cOdH...   \n",
       "1  1623439671  http://ecx.images-amazon.com/images/I/61t-hrSw...   \n",
       "2  B00O80WC6I  http://ecx.images-amazon.com/images/I/41X-KQqs...   \n",
       "3   761182187  http://ecx.images-amazon.com/images/I/61j-4gxJ...   \n",
       "4  1578052084  http://ecx.images-amazon.com/images/I/51Ry4Tsq...   \n",
       "\n",
       "                                               title              author  \\\n",
       "0                    Mom's Family Wall Calendar 2016      Sandra Boynton   \n",
       "1                    Doug the Pug 2016 Wall Calendar        Doug the Pug   \n",
       "2  Moleskine 2016 Weekly Notebook, 12M, Large, Bl...           Moleskine   \n",
       "3            365 Cats Color Page-A-Day Calendar 2016  Workman Publishing   \n",
       "4               Sierra Club Engagement Calendar 2016         Sierra Club   \n",
       "\n",
       "    category  publisherID  pages  price  inventory  \n",
       "0  Calendars          NaN    298  16.57         44  \n",
       "1  Calendars          NaN    964   1.69         38  \n",
       "2  Calendars          NaN    564   3.04         54  \n",
       "3  Calendars          NaN    300  13.52         44  \n",
       "4  Calendars          NaN    677   3.04         37  "
      ]
     },
     "execution_count": 5,
     "metadata": {},
     "output_type": "execute_result"
    }
   ],
   "source": [
    "df = pd.read_csv('./amazon_books.csv') \\\n",
    "        .drop(columns=['filename', 'category_id']) \\\n",
    "        .rename(columns={\n",
    "            'ASIN': 'asin',\n",
    "            'image_url': 'coverURL'\n",
    "        })\n",
    "\n",
    "random_field = lambda low, high: np.random.randint(low, high, (len(df),))\n",
    "df = df.assign(\n",
    "    asin=lambda df: df.asin.apply(lambda asin: asin[:10]),\n",
    "    publisherID=np.nan,\n",
    "    pages=random_field(100, 1000),\n",
    "    price=(np.random.rand() * random_field(2,50)).round(2),\n",
    "    inventory=random_field(12, 100)\n",
    ")\n",
    "\n",
    "dump = df.drop(columns=\"author\")\n",
    "dump.head()\n",
    "\n",
    "df.head()"
   ]
  },
  {
   "cell_type": "code",
   "execution_count": 6,
   "metadata": {},
   "outputs": [],
   "source": [
    "# https://stackoverflow.com/a/55495065/6766123\n",
    "def psql_insert_copy(table, conn, keys, data_iter):\n",
    "    # gets a DBAPI connection that can provide a cursor\n",
    "    data_iter = tqdm(data_iter)\n",
    "    dbapi_conn = conn.connection\n",
    "    \n",
    "    with dbapi_conn.cursor() as cur:\n",
    "        s_buf = io.StringIO()\n",
    "        writer = csv.writer(s_buf)\n",
    "        writer.writerows(data_iter)\n",
    "        s_buf.seek(0)\n",
    "\n",
    "        columns = ', '.join('\"{}\"'.format(k) for k in keys)\n",
    "        if table.schema:\n",
    "            table_name = '{}.{}'.format(table.schema, table.name)\n",
    "        else:\n",
    "            table_name = table.name\n",
    "\n",
    "        sql = 'COPY {} ({}) FROM STDIN WITH CSV'.format(table_name, columns)\n",
    "        cur.copy_expert(sql=sql, file=s_buf)"
   ]
  },
  {
   "cell_type": "code",
   "execution_count": 7,
   "metadata": {},
   "outputs": [
    {
     "data": {
      "application/vnd.jupyter.widget-view+json": {
       "model_id": "ea9dc7e9a03840b9a13ba149661fad66",
       "version_major": 2,
       "version_minor": 0
      },
      "text/plain": [
       "HBox(children=(FloatProgress(value=1.0, bar_style='info', max=1.0), HTML(value='')))"
      ]
     },
     "metadata": {},
     "output_type": "display_data"
    },
    {
     "name": "stdout",
     "output_type": "stream",
     "text": [
      "\n"
     ]
    }
   ],
   "source": [
    "dump.columns = [c.lower() for c in dump.columns]\n",
    "dump.to_sql('book', engine, schema=\"final\", if_exists=\"append\", index=False, method=psql_insert_copy)"
   ]
  },
  {
   "cell_type": "markdown",
   "metadata": {},
   "source": [
    "## Inserting Author Data"
   ]
  },
  {
   "cell_type": "code",
   "execution_count": 12,
   "metadata": {},
   "outputs": [
    {
     "data": {
      "text/plain": [
       "<sqlalchemy.engine.result.ResultProxy at 0x10fec8190>"
      ]
     },
     "execution_count": 12,
     "metadata": {},
     "output_type": "execute_result"
    }
   ],
   "source": [
    "# delete all rows; can't use replace because of dependencies\n",
    "engine.execute('truncate final.\"author\" cascade;') \n",
    "\n",
    "seq_key = engine.execute(\"\"\"SELECT pg_get_serial_sequence('final.\"author\"', 'authorid');\"\"\").fetchall()[0][0]\n",
    "reset_pk = \"ALTER SEQUENCE {} RESTART WITH 1\".format(seq_key)\n",
    "engine.execute(reset_pk)"
   ]
  },
  {
   "cell_type": "code",
   "execution_count": 13,
   "metadata": {},
   "outputs": [
    {
     "data": {
      "application/vnd.jupyter.widget-view+json": {
       "model_id": "69eeaedca6b642cf8877aaf620a718d2",
       "version_major": 2,
       "version_minor": 0
      },
      "text/plain": [
       "HBox(children=(FloatProgress(value=1.0, bar_style='info', max=1.0), HTML(value='')))"
      ]
     },
     "metadata": {},
     "output_type": "display_data"
    },
    {
     "name": "stdout",
     "output_type": "stream",
     "text": [
      "\n"
     ]
    }
   ],
   "source": [
    "author_dump = df[['author', 'asin']].rename(columns={'author': 'fullname'}).dropna()\n",
    "author_dump[['fullname']] \\\n",
    "    .drop_duplicates(subset='fullname') \\\n",
    "    .to_sql('author', engine, schema=\"final\", if_exists=\"append\", index=False, method=psql_insert_copy)"
   ]
  },
  {
   "cell_type": "code",
   "execution_count": 14,
   "metadata": {},
   "outputs": [
    {
     "data": {
      "text/plain": [
       "[(117374,)]"
      ]
     },
     "execution_count": 14,
     "metadata": {},
     "output_type": "execute_result"
    }
   ],
   "source": [
    "engine.execute('SELECT COUNT(*) FROM final.\"author\"').fetchall()"
   ]
  },
  {
   "cell_type": "code",
   "execution_count": 15,
   "metadata": {},
   "outputs": [
    {
     "data": {
      "text/html": [
       "<div>\n",
       "<style scoped>\n",
       "    .dataframe tbody tr th:only-of-type {\n",
       "        vertical-align: middle;\n",
       "    }\n",
       "\n",
       "    .dataframe tbody tr th {\n",
       "        vertical-align: top;\n",
       "    }\n",
       "\n",
       "    .dataframe thead th {\n",
       "        text-align: right;\n",
       "    }\n",
       "</style>\n",
       "<table border=\"1\" class=\"dataframe\">\n",
       "  <thead>\n",
       "    <tr style=\"text-align: right;\">\n",
       "      <th></th>\n",
       "      <th>authorid</th>\n",
       "      <th>fullname</th>\n",
       "    </tr>\n",
       "  </thead>\n",
       "  <tbody>\n",
       "    <tr>\n",
       "      <th>0</th>\n",
       "      <td>1</td>\n",
       "      <td>Sandra Boynton</td>\n",
       "    </tr>\n",
       "    <tr>\n",
       "      <th>1</th>\n",
       "      <td>2</td>\n",
       "      <td>Doug the Pug</td>\n",
       "    </tr>\n",
       "    <tr>\n",
       "      <th>2</th>\n",
       "      <td>3</td>\n",
       "      <td>Moleskine</td>\n",
       "    </tr>\n",
       "    <tr>\n",
       "      <th>3</th>\n",
       "      <td>4</td>\n",
       "      <td>Workman Publishing</td>\n",
       "    </tr>\n",
       "    <tr>\n",
       "      <th>4</th>\n",
       "      <td>5</td>\n",
       "      <td>Sierra Club</td>\n",
       "    </tr>\n",
       "  </tbody>\n",
       "</table>\n",
       "</div>"
      ],
      "text/plain": [
       "   authorid            fullname\n",
       "0         1      Sandra Boynton\n",
       "1         2        Doug the Pug\n",
       "2         3           Moleskine\n",
       "3         4  Workman Publishing\n",
       "4         5         Sierra Club"
      ]
     },
     "execution_count": 15,
     "metadata": {},
     "output_type": "execute_result"
    }
   ],
   "source": [
    "query = engine.execute('SELECT * FROM final.\"author\"')\n",
    "author_ids = pd.DataFrame(query.fetchall(), columns=['authorid', 'fullname'])\n",
    "\n",
    "author_ids.head()"
   ]
  },
  {
   "cell_type": "code",
   "execution_count": 16,
   "metadata": {},
   "outputs": [
    {
     "name": "stdout",
     "output_type": "stream",
     "text": [
      "(193159, 3)\n"
     ]
    },
    {
     "data": {
      "text/html": [
       "<div>\n",
       "<style scoped>\n",
       "    .dataframe tbody tr th:only-of-type {\n",
       "        vertical-align: middle;\n",
       "    }\n",
       "\n",
       "    .dataframe tbody tr th {\n",
       "        vertical-align: top;\n",
       "    }\n",
       "\n",
       "    .dataframe thead th {\n",
       "        text-align: right;\n",
       "    }\n",
       "</style>\n",
       "<table border=\"1\" class=\"dataframe\">\n",
       "  <thead>\n",
       "    <tr style=\"text-align: right;\">\n",
       "      <th></th>\n",
       "      <th>fullname</th>\n",
       "      <th>asin</th>\n",
       "      <th>authorid</th>\n",
       "    </tr>\n",
       "  </thead>\n",
       "  <tbody>\n",
       "    <tr>\n",
       "      <th>0</th>\n",
       "      <td>Sandra Boynton</td>\n",
       "      <td>761183272</td>\n",
       "      <td>1</td>\n",
       "    </tr>\n",
       "    <tr>\n",
       "      <th>1</th>\n",
       "      <td>Sandra Boynton</td>\n",
       "      <td>761177817</td>\n",
       "      <td>1</td>\n",
       "    </tr>\n",
       "    <tr>\n",
       "      <th>2</th>\n",
       "      <td>Sandra Boynton</td>\n",
       "      <td>761185631</td>\n",
       "      <td>1</td>\n",
       "    </tr>\n",
       "    <tr>\n",
       "      <th>3</th>\n",
       "      <td>Sandra Boynton</td>\n",
       "      <td>761137998</td>\n",
       "      <td>1</td>\n",
       "    </tr>\n",
       "    <tr>\n",
       "      <th>4</th>\n",
       "      <td>Sandra Boynton</td>\n",
       "      <td>894801996</td>\n",
       "      <td>1</td>\n",
       "    </tr>\n",
       "  </tbody>\n",
       "</table>\n",
       "</div>"
      ],
      "text/plain": [
       "         fullname       asin  authorid\n",
       "0  Sandra Boynton  761183272         1\n",
       "1  Sandra Boynton  761177817         1\n",
       "2  Sandra Boynton  761185631         1\n",
       "3  Sandra Boynton  761137998         1\n",
       "4  Sandra Boynton  894801996         1"
      ]
     },
     "execution_count": 16,
     "metadata": {},
     "output_type": "execute_result"
    }
   ],
   "source": [
    "writtenby = pd.merge(author_dump, author_ids, on='fullname')\n",
    "\n",
    "print(writtenby.shape)\n",
    "writtenby.head()"
   ]
  },
  {
   "cell_type": "code",
   "execution_count": 18,
   "metadata": {},
   "outputs": [
    {
     "data": {
      "application/vnd.jupyter.widget-view+json": {
       "model_id": "9b1492bd790248798ba79a2f13e16195",
       "version_major": 2,
       "version_minor": 0
      },
      "text/plain": [
       "HBox(children=(FloatProgress(value=1.0, bar_style='info', max=1.0), HTML(value='')))"
      ]
     },
     "metadata": {},
     "output_type": "display_data"
    },
    {
     "name": "stdout",
     "output_type": "stream",
     "text": [
      "\n"
     ]
    }
   ],
   "source": [
    "writtenby.drop(columns='fullname') \\\n",
    "        .to_sql('writtenby', engine, schema=\"final\", if_exists=\"append\", index=False, method=psql_insert_copy)"
   ]
  },
  {
   "cell_type": "markdown",
   "metadata": {},
   "source": [
    "## Inserting Users"
   ]
  },
  {
   "cell_type": "code",
   "execution_count": null,
   "metadata": {},
   "outputs": [],
   "source": [
    "def random_uuids(n):\n",
    "    return (str(uuid.uuid4()) for _ in range(n))"
   ]
  },
  {
   "cell_type": "code",
   "execution_count": null,
   "metadata": {},
   "outputs": [],
   "source": [
    "import uuid\n",
    "\n",
    "NUM_USERS = 1_000\n",
    "\n",
    "users = pd.DataFrame([{'userid': uuid} for uuid in random_uuids(NUM_USERS)])\n",
    "users.head()"
   ]
  },
  {
   "cell_type": "code",
   "execution_count": null,
   "metadata": {},
   "outputs": [],
   "source": [
    "users.to_sql('customer', engine, schema=\"final\", if_exists=\"append\", index=False, method=psql_insert_copy)"
   ]
  },
  {
   "cell_type": "markdown",
   "metadata": {},
   "source": [
    "## Inserting Credit Cards"
   ]
  },
  {
   "cell_type": "code",
   "execution_count": null,
   "metadata": {},
   "outputs": [],
   "source": [
    "from faker import Faker\n",
    "\n",
    "fake = Faker()\n",
    "Faker.seed(0)\n",
    "\n",
    "def random_credit_cards(n):\n",
    "    for _ in range(n):\n",
    "        yield {\n",
    "            'cardnumber': fake.credit_card_number(card_type='visa'),\n",
    "            'cvv': fake.credit_card_security_code(card_type='visa'),\n",
    "            'expirationdate': fake.credit_card_expire(end='+5y', date_format='20%y-%m-01')\n",
    "        }"
   ]
  },
  {
   "cell_type": "code",
   "execution_count": null,
   "metadata": {},
   "outputs": [],
   "source": [
    "NUM_CARDS = int(NUM_USERS*1.75)\n",
    "\n",
    "random_cardholders = users.sample(NUM_CARDS, replace=True).values.squeeze()\n",
    "random_cc_iter = zip(random_cardholders, random_credit_cards(NUM_CARDS))\n",
    "\n",
    "cc_users = pd.DataFrame([{'userid': uid, **cc} for (uid, cc) in random_cc_iter])\n",
    "\n",
    "print(cc_users.shape)\n",
    "cc_users.head()"
   ]
  },
  {
   "cell_type": "code",
   "execution_count": null,
   "metadata": {},
   "outputs": [],
   "source": [
    "payment_method = cc_users.drop(columns='userid')\n",
    "payment_method.to_sql('paymentmethod', engine, schema=\"final\", if_exists=\"append\", index=False, method=psql_insert_copy)"
   ]
  },
  {
   "cell_type": "code",
   "execution_count": null,
   "metadata": {},
   "outputs": [],
   "source": [
    "cardholders = cc_users[['userid', 'cardnumber']]\n",
    "cardholders.to_sql('cardholder', engine, schema=\"final\", if_exists=\"append\", index=False, method=psql_insert_copy)"
   ]
  },
  {
   "cell_type": "markdown",
   "metadata": {},
   "source": [
    "## Simulating Purchases"
   ]
  },
  {
   "cell_type": "code",
   "execution_count": null,
   "metadata": {},
   "outputs": [],
   "source": [
    "from datetime import datetime\n",
    "\n",
    "# https://stackoverflow.com/a/57722873/6766123\n",
    "\n",
    "def random_dates(first_date, second_date, n):\n",
    "    d1 = datetime.strptime(first_date, \"%m/%d/%Y %I:%M %p\")\n",
    "    d2 = datetime.strptime(second_date, \"%m/%d/%Y %I:%M %p\")\n",
    "    \n",
    "    first_timestamp = int(d1.timestamp())\n",
    "    second_timestamp = int(d2.timestamp())\n",
    "    random_timestamps = np.random.randint(first_timestamp, second_timestamp, (n,))\n",
    "    \n",
    "    return pd.Series(random_timestamps).apply(datetime.fromtimestamp)"
   ]
  },
  {
   "cell_type": "code",
   "execution_count": null,
   "metadata": {},
   "outputs": [],
   "source": [
    "NUM_PURCHASES = np.random.randint(2000, 3000)\n",
    "NUM_SAMPLED_USERS = np.random.randint(NUM_USERS//3, NUM_USERS//3*2)\n",
    "\n",
    "purchases = cardholders.sample(NUM_SAMPLED_USERS) \\\n",
    "                .sample(NUM_PURCHASES, replace=True) \\\n",
    "                .assign(\n",
    "                    orderid=list(random_uuids(NUM_PURCHASES)),\n",
    "                    ordertime=random_dates(\"1/1/2018 1:30 PM\", \"4/4/2020 4:50 AM\", NUM_PURCHASES)\n",
    "                )\n",
    "\n",
    "assert purchases.userid.isin(cardholders.userid).all()\n",
    "\n",
    "print(purchases.shape)\n",
    "purchases.head()"
   ]
  },
  {
   "cell_type": "code",
   "execution_count": null,
   "metadata": {},
   "outputs": [],
   "source": [
    "# https://stackoverflow.com/a/50425683/6766123\n",
    "def softmax(x, axis=None):\n",
    "    x = x - x.max(axis=axis, keepdims=True)\n",
    "    y = np.exp(x)\n",
    "    return y / y.sum(axis=axis, keepdims=True)\n",
    "\n",
    "MAX_QTY = 4\n",
    "PURCHASE_QUANTITIES = list(range(1,MAX_QTY+1))\n",
    "QTY_WEIGHTS = softmax(-2*np.array(PURCHASE_QUANTITIES))\n",
    "QTY_WEIGHTS"
   ]
  },
  {
   "cell_type": "code",
   "execution_count": null,
   "metadata": {},
   "outputs": [],
   "source": [
    "NUM_PURCHASED_ITEMS = np.random.randint(8000, 12_000)\n",
    "purchased_items = df[['asin']].sample(NUM_PURCHASED_ITEMS, replace=True) \\\n",
    "                            .assign(\n",
    "                                orderid=purchases.orderid.sample(NUM_PURCHASED_ITEMS, replace=True).values,\n",
    "                                quantity=pd.Series(PURCHASE_QUANTITIES) \\\n",
    "                                            .sample(NUM_PURCHASED_ITEMS, \n",
    "                                                    replace=True, \n",
    "                                                    weights=QTY_WEIGHTS) \\\n",
    "                                            .values\n",
    "                            )\n",
    "\n",
    "print(purchased_items.shape)\n",
    "purchased_items.head()"
   ]
  },
  {
   "cell_type": "code",
   "execution_count": null,
   "metadata": {},
   "outputs": [],
   "source": [
    "purchased_items.orderid.value_counts()"
   ]
  },
  {
   "cell_type": "code",
   "execution_count": null,
   "metadata": {},
   "outputs": [],
   "source": [
    "purchased_items.quantity.value_counts()"
   ]
  },
  {
   "cell_type": "code",
   "execution_count": null,
   "metadata": {},
   "outputs": [],
   "source": [
    "purchases.to_sql('purchase', engine, schema=\"final\", if_exists=\"append\", index=False, method=psql_insert_copy)"
   ]
  },
  {
   "cell_type": "code",
   "execution_count": null,
   "metadata": {},
   "outputs": [],
   "source": [
    "purchased_items.to_sql('purchaseditem', \n",
    "                       engine, \n",
    "                       schema=\"final\", \n",
    "                       if_exists=\"append\", \n",
    "                       index=False, \n",
    "                       method=psql_insert_copy)"
   ]
  },
  {
   "cell_type": "code",
   "execution_count": null,
   "metadata": {},
   "outputs": [],
   "source": []
  }
 ],
 "metadata": {
  "kernelspec": {
   "display_name": "Python 3",
   "language": "python",
   "name": "python3"
  },
  "language_info": {
   "codemirror_mode": {
    "name": "ipython",
    "version": 3
   },
   "file_extension": ".py",
   "mimetype": "text/x-python",
   "name": "python",
   "nbconvert_exporter": "python",
   "pygments_lexer": "ipython3",
   "version": "3.7.6"
  },
  "latex_envs": {
   "LaTeX_envs_menu_present": true,
   "autoclose": true,
   "autocomplete": true,
   "bibliofile": "biblio.bib",
   "cite_by": "apalike",
   "current_citInitial": 1,
   "eqLabelWithNumbers": true,
   "eqNumInitial": 1,
   "hotkeys": {
    "equation": "Ctrl-E",
    "itemize": "Ctrl-I"
   },
   "labels_anchors": false,
   "latex_user_defs": false,
   "report_style_numbering": false,
   "user_envs_cfg": false
  }
 },
 "nbformat": 4,
 "nbformat_minor": 4
}
